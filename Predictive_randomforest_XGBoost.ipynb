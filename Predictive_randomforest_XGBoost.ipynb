{
 "cells": [
  {
   "cell_type": "markdown",
   "metadata": {},
   "source": [
    "## Import necessary libraries"
   ]
  },
  {
   "cell_type": "code",
   "execution_count": 1,
   "metadata": {},
   "outputs": [],
   "source": [
    "import pandas as pd\n",
    "import numpy as np\n",
    "from sklearn.feature_selection import VarianceThreshold\n",
    "from sklearn.feature_selection import SelectKBest, chi2\n",
    "from sklearn import preprocessing\n",
    "from sklearn.model_selection import train_test_split, cross_val_score\n",
    "from sklearn import tree\n",
    "from sklearn.tree import DecisionTreeRegressor\n",
    "from sklearn.tree import export_graphviz\n",
    "from sklearn import metrics\n",
    "from sklearn.metrics import classification_report, mean_squared_error\n",
    "from sklearn import linear_model\n",
    "from sklearn.linear_model import LinearRegression\n",
    "from sklearn.linear_model import LogisticRegression\n",
    "from sklearn.preprocessing import StandardScaler\n",
    "from sklearn import neighbors\n",
    "from sklearn.neighbors import KNeighborsRegressor\n",
    "from sklearn.metrics import classification_report\n",
    "from sklearn import svm\n",
    "from sklearn.svm import SVR\n",
    "from sklearn.model_selection import GridSearchCV, RandomizedSearchCV\n",
    "from sklearn.feature_selection import SelectKBest\n",
    "from sklearn.feature_selection import chi2\n",
    "import warnings\n",
    "warnings.filterwarnings('ignore')"
   ]
  },
  {
   "cell_type": "code",
   "execution_count": 14,
   "metadata": {
    "scrolled": false
   },
   "outputs": [
    {
     "data": {
      "text/html": [
       "<div>\n",
       "<style scoped>\n",
       "    .dataframe tbody tr th:only-of-type {\n",
       "        vertical-align: middle;\n",
       "    }\n",
       "\n",
       "    .dataframe tbody tr th {\n",
       "        vertical-align: top;\n",
       "    }\n",
       "\n",
       "    .dataframe thead th {\n",
       "        text-align: right;\n",
       "    }\n",
       "</style>\n",
       "<table border=\"1\" class=\"dataframe\">\n",
       "  <thead>\n",
       "    <tr style=\"text-align: right;\">\n",
       "      <th></th>\n",
       "      <th>Unnamed: 0</th>\n",
       "      <th>fullVisitorId</th>\n",
       "      <th>channelGrouping</th>\n",
       "      <th>first_ses_from_the_period_start</th>\n",
       "      <th>last_ses_from_the_period_end</th>\n",
       "      <th>interval_dates</th>\n",
       "      <th>unique_date_num</th>\n",
       "      <th>maxVisitNum</th>\n",
       "      <th>browser</th>\n",
       "      <th>operatingSystem</th>\n",
       "      <th>...</th>\n",
       "      <th>pageviews_mean</th>\n",
       "      <th>pageviews_min</th>\n",
       "      <th>pageviews_max</th>\n",
       "      <th>pageviews_median</th>\n",
       "      <th>pageviews_sd</th>\n",
       "      <th>session_cnt</th>\n",
       "      <th>transactionRevenue</th>\n",
       "      <th>transactions</th>\n",
       "      <th>target</th>\n",
       "      <th>ret</th>\n",
       "    </tr>\n",
       "  </thead>\n",
       "  <tbody>\n",
       "    <tr>\n",
       "      <td>0</td>\n",
       "      <td>1</td>\n",
       "      <td>10278554503158</td>\n",
       "      <td>Organic Search</td>\n",
       "      <td>80</td>\n",
       "      <td>87</td>\n",
       "      <td>0</td>\n",
       "      <td>1</td>\n",
       "      <td>1</td>\n",
       "      <td>Chrome</td>\n",
       "      <td>Macintosh</td>\n",
       "      <td>...</td>\n",
       "      <td>8.0</td>\n",
       "      <td>8.0</td>\n",
       "      <td>8.0</td>\n",
       "      <td>8.0</td>\n",
       "      <td>NaN</td>\n",
       "      <td>1</td>\n",
       "      <td>0.0</td>\n",
       "      <td>0</td>\n",
       "      <td>0.0</td>\n",
       "      <td>0</td>\n",
       "    </tr>\n",
       "    <tr>\n",
       "      <td>1</td>\n",
       "      <td>2</td>\n",
       "      <td>20424342248747</td>\n",
       "      <td>Organic Search</td>\n",
       "      <td>121</td>\n",
       "      <td>46</td>\n",
       "      <td>0</td>\n",
       "      <td>1</td>\n",
       "      <td>1</td>\n",
       "      <td>Chrome</td>\n",
       "      <td>Windows</td>\n",
       "      <td>...</td>\n",
       "      <td>13.0</td>\n",
       "      <td>13.0</td>\n",
       "      <td>13.0</td>\n",
       "      <td>13.0</td>\n",
       "      <td>NaN</td>\n",
       "      <td>1</td>\n",
       "      <td>0.0</td>\n",
       "      <td>0</td>\n",
       "      <td>0.0</td>\n",
       "      <td>0</td>\n",
       "    </tr>\n",
       "    <tr>\n",
       "      <td>2</td>\n",
       "      <td>3</td>\n",
       "      <td>5103959234087</td>\n",
       "      <td>Organic Search</td>\n",
       "      <td>20</td>\n",
       "      <td>147</td>\n",
       "      <td>0</td>\n",
       "      <td>1</td>\n",
       "      <td>1</td>\n",
       "      <td>Chrome</td>\n",
       "      <td>Android</td>\n",
       "      <td>...</td>\n",
       "      <td>8.0</td>\n",
       "      <td>8.0</td>\n",
       "      <td>8.0</td>\n",
       "      <td>8.0</td>\n",
       "      <td>NaN</td>\n",
       "      <td>1</td>\n",
       "      <td>0.0</td>\n",
       "      <td>0</td>\n",
       "      <td>0.0</td>\n",
       "      <td>0</td>\n",
       "    </tr>\n",
       "    <tr>\n",
       "      <td>3</td>\n",
       "      <td>4</td>\n",
       "      <td>93957001069502</td>\n",
       "      <td>Organic Search</td>\n",
       "      <td>57</td>\n",
       "      <td>110</td>\n",
       "      <td>0</td>\n",
       "      <td>1</td>\n",
       "      <td>1</td>\n",
       "      <td>Chrome</td>\n",
       "      <td>Windows</td>\n",
       "      <td>...</td>\n",
       "      <td>2.0</td>\n",
       "      <td>2.0</td>\n",
       "      <td>2.0</td>\n",
       "      <td>2.0</td>\n",
       "      <td>NaN</td>\n",
       "      <td>1</td>\n",
       "      <td>0.0</td>\n",
       "      <td>0</td>\n",
       "      <td>0.0</td>\n",
       "      <td>0</td>\n",
       "    </tr>\n",
       "    <tr>\n",
       "      <td>4</td>\n",
       "      <td>5</td>\n",
       "      <td>114156543135683</td>\n",
       "      <td>Social</td>\n",
       "      <td>7</td>\n",
       "      <td>160</td>\n",
       "      <td>0</td>\n",
       "      <td>1</td>\n",
       "      <td>1</td>\n",
       "      <td>Safari</td>\n",
       "      <td>Macintosh</td>\n",
       "      <td>...</td>\n",
       "      <td>1.0</td>\n",
       "      <td>1.0</td>\n",
       "      <td>1.0</td>\n",
       "      <td>1.0</td>\n",
       "      <td>NaN</td>\n",
       "      <td>1</td>\n",
       "      <td>0.0</td>\n",
       "      <td>0</td>\n",
       "      <td>0.0</td>\n",
       "      <td>0</td>\n",
       "    </tr>\n",
       "  </tbody>\n",
       "</table>\n",
       "<p>5 rows × 41 columns</p>\n",
       "</div>"
      ],
      "text/plain": [
       "   Unnamed: 0    fullVisitorId channelGrouping  \\\n",
       "0           1   10278554503158  Organic Search   \n",
       "1           2   20424342248747  Organic Search   \n",
       "2           3    5103959234087  Organic Search   \n",
       "3           4   93957001069502  Organic Search   \n",
       "4           5  114156543135683          Social   \n",
       "\n",
       "   first_ses_from_the_period_start  last_ses_from_the_period_end  \\\n",
       "0                               80                            87   \n",
       "1                              121                            46   \n",
       "2                               20                           147   \n",
       "3                               57                           110   \n",
       "4                                7                           160   \n",
       "\n",
       "   interval_dates  unique_date_num  maxVisitNum browser operatingSystem  ...  \\\n",
       "0               0                1            1  Chrome       Macintosh  ...   \n",
       "1               0                1            1  Chrome         Windows  ...   \n",
       "2               0                1            1  Chrome         Android  ...   \n",
       "3               0                1            1  Chrome         Windows  ...   \n",
       "4               0                1            1  Safari       Macintosh  ...   \n",
       "\n",
       "  pageviews_mean pageviews_min pageviews_max pageviews_median pageviews_sd  \\\n",
       "0            8.0           8.0           8.0              8.0          NaN   \n",
       "1           13.0          13.0          13.0             13.0          NaN   \n",
       "2            8.0           8.0           8.0              8.0          NaN   \n",
       "3            2.0           2.0           2.0              2.0          NaN   \n",
       "4            1.0           1.0           1.0              1.0          NaN   \n",
       "\n",
       "  session_cnt transactionRevenue transactions target ret  \n",
       "0           1                0.0            0    0.0   0  \n",
       "1           1                0.0            0    0.0   0  \n",
       "2           1                0.0            0    0.0   0  \n",
       "3           1                0.0            0    0.0   0  \n",
       "4           1                0.0            0    0.0   0  \n",
       "\n",
       "[5 rows x 41 columns]"
      ]
     },
     "execution_count": 14,
     "metadata": {},
     "output_type": "execute_result"
    }
   ],
   "source": [
    "# All training data\n",
    "df = pd.read_csv(r'C:\\Users\\ACER\\Desktop\\UMN\\Predictive Analysis\\FinalProject\\data\\train_final.csv')\n",
    "len(df)\n",
    "df.head(5)"
   ]
  },
  {
   "cell_type": "code",
   "execution_count": 15,
   "metadata": {},
   "outputs": [],
   "source": [
    "df = df.drop(columns = ['isVideoAd_mean',\n",
    "                            'Unnamed: 0',\n",
    "                            'isTrueDirect',\n",
    "                            'hits_min',\n",
    "                            'hits_max',\n",
    "                            'hits_median',\n",
    "                            'hits_sd',\n",
    "                            'pageviews_min',\n",
    "                            'pageviews_max',\n",
    "                            'pageviews_median',\n",
    "                            'pageviews_sd'])"
   ]
  },
  {
   "cell_type": "code",
   "execution_count": 16,
   "metadata": {},
   "outputs": [
    {
     "data": {
      "text/plain": [
       "42722"
      ]
     },
     "execution_count": 16,
     "metadata": {},
     "output_type": "execute_result"
    }
   ],
   "source": [
    "len(set(df['networkDomain']))"
   ]
  },
  {
   "cell_type": "code",
   "execution_count": 17,
   "metadata": {
    "scrolled": false
   },
   "outputs": [
    {
     "name": "stdout",
     "output_type": "stream",
     "text": [
      "<class 'pandas.core.frame.DataFrame'>\n",
      "RangeIndex: 1417575 entries, 0 to 1417574\n",
      "Data columns (total 30 columns):\n",
      "fullVisitorId                      1417575 non-null object\n",
      "channelGrouping                    1417575 non-null object\n",
      "first_ses_from_the_period_start    1417575 non-null int64\n",
      "last_ses_from_the_period_end       1417575 non-null int64\n",
      "interval_dates                     1417575 non-null int64\n",
      "unique_date_num                    1417575 non-null int64\n",
      "maxVisitNum                        1417575 non-null int64\n",
      "browser                            1417575 non-null object\n",
      "operatingSystem                    1417575 non-null object\n",
      "deviceCategory                     1417575 non-null object\n",
      "continent                          1417575 non-null object\n",
      "subContinent                       1417575 non-null object\n",
      "country                            1417575 non-null object\n",
      "region                             1417575 non-null object\n",
      "metro                              1417575 non-null object\n",
      "city                               1417575 non-null object\n",
      "networkDomain                      1417575 non-null object\n",
      "source                             1417575 non-null object\n",
      "medium                             1417575 non-null object\n",
      "isMobile                           1417575 non-null float64\n",
      "bounce_sessions                    1417575 non-null int64\n",
      "hits_sum                           1417575 non-null int64\n",
      "hits_mean                          1417575 non-null float64\n",
      "pageviews_sum                      1417575 non-null int64\n",
      "pageviews_mean                     1417524 non-null float64\n",
      "session_cnt                        1417575 non-null int64\n",
      "transactionRevenue                 1417575 non-null float64\n",
      "transactions                       1417575 non-null int64\n",
      "target                             1417575 non-null float64\n",
      "ret                                1417575 non-null int64\n",
      "dtypes: float64(5), int64(11), object(14)\n",
      "memory usage: 324.5+ MB\n"
     ]
    }
   ],
   "source": [
    "df.info()"
   ]
  },
  {
   "cell_type": "code",
   "execution_count": 18,
   "metadata": {},
   "outputs": [
    {
     "data": {
      "text/html": [
       "<div>\n",
       "<style scoped>\n",
       "    .dataframe tbody tr th:only-of-type {\n",
       "        vertical-align: middle;\n",
       "    }\n",
       "\n",
       "    .dataframe tbody tr th {\n",
       "        vertical-align: top;\n",
       "    }\n",
       "\n",
       "    .dataframe thead th {\n",
       "        text-align: right;\n",
       "    }\n",
       "</style>\n",
       "<table border=\"1\" class=\"dataframe\">\n",
       "  <thead>\n",
       "    <tr style=\"text-align: right;\">\n",
       "      <th></th>\n",
       "      <th>Unnamed: 0</th>\n",
       "      <th>fullVisitorId</th>\n",
       "      <th>channelGrouping</th>\n",
       "      <th>first_ses_from_the_period_start</th>\n",
       "      <th>last_ses_from_the_period_end</th>\n",
       "      <th>interval_dates</th>\n",
       "      <th>unique_date_num</th>\n",
       "      <th>maxVisitNum</th>\n",
       "      <th>browser</th>\n",
       "      <th>operatingSystem</th>\n",
       "      <th>...</th>\n",
       "      <th>pageviews_mean</th>\n",
       "      <th>pageviews_min</th>\n",
       "      <th>pageviews_max</th>\n",
       "      <th>pageviews_median</th>\n",
       "      <th>pageviews_sd</th>\n",
       "      <th>session_cnt</th>\n",
       "      <th>transactionRevenue</th>\n",
       "      <th>transactions</th>\n",
       "      <th>target</th>\n",
       "      <th>ret</th>\n",
       "    </tr>\n",
       "  </thead>\n",
       "  <tbody>\n",
       "    <tr>\n",
       "      <td>0</td>\n",
       "      <td>1417576</td>\n",
       "      <td>18966949534117</td>\n",
       "      <td>Organic Search</td>\n",
       "      <td>104</td>\n",
       "      <td>63</td>\n",
       "      <td>0</td>\n",
       "      <td>1</td>\n",
       "      <td>1</td>\n",
       "      <td>Chrome</td>\n",
       "      <td>Macintosh</td>\n",
       "      <td>...</td>\n",
       "      <td>7.0</td>\n",
       "      <td>7.0</td>\n",
       "      <td>7.0</td>\n",
       "      <td>7.0</td>\n",
       "      <td>NaN</td>\n",
       "      <td>1</td>\n",
       "      <td>0.0</td>\n",
       "      <td>0</td>\n",
       "      <td>NaN</td>\n",
       "      <td>NaN</td>\n",
       "    </tr>\n",
       "    <tr>\n",
       "      <td>1</td>\n",
       "      <td>1417577</td>\n",
       "      <td>39738481224681</td>\n",
       "      <td>Direct</td>\n",
       "      <td>43</td>\n",
       "      <td>124</td>\n",
       "      <td>0</td>\n",
       "      <td>1</td>\n",
       "      <td>1</td>\n",
       "      <td>Chrome</td>\n",
       "      <td>Android</td>\n",
       "      <td>...</td>\n",
       "      <td>1.0</td>\n",
       "      <td>1.0</td>\n",
       "      <td>1.0</td>\n",
       "      <td>1.0</td>\n",
       "      <td>NaN</td>\n",
       "      <td>1</td>\n",
       "      <td>0.0</td>\n",
       "      <td>0</td>\n",
       "      <td>NaN</td>\n",
       "      <td>NaN</td>\n",
       "    </tr>\n",
       "    <tr>\n",
       "      <td>2</td>\n",
       "      <td>1417578</td>\n",
       "      <td>73585230191399</td>\n",
       "      <td>Organic Search</td>\n",
       "      <td>33</td>\n",
       "      <td>134</td>\n",
       "      <td>0</td>\n",
       "      <td>1</td>\n",
       "      <td>1</td>\n",
       "      <td>Safari</td>\n",
       "      <td>iOS</td>\n",
       "      <td>...</td>\n",
       "      <td>1.0</td>\n",
       "      <td>1.0</td>\n",
       "      <td>1.0</td>\n",
       "      <td>1.0</td>\n",
       "      <td>NaN</td>\n",
       "      <td>1</td>\n",
       "      <td>0.0</td>\n",
       "      <td>0</td>\n",
       "      <td>NaN</td>\n",
       "      <td>NaN</td>\n",
       "    </tr>\n",
       "    <tr>\n",
       "      <td>3</td>\n",
       "      <td>1417579</td>\n",
       "      <td>87588448856385</td>\n",
       "      <td>Organic Search</td>\n",
       "      <td>36</td>\n",
       "      <td>131</td>\n",
       "      <td>0</td>\n",
       "      <td>1</td>\n",
       "      <td>1</td>\n",
       "      <td>Chrome</td>\n",
       "      <td>Windows</td>\n",
       "      <td>...</td>\n",
       "      <td>1.0</td>\n",
       "      <td>1.0</td>\n",
       "      <td>1.0</td>\n",
       "      <td>1.0</td>\n",
       "      <td>NaN</td>\n",
       "      <td>1</td>\n",
       "      <td>0.0</td>\n",
       "      <td>0</td>\n",
       "      <td>NaN</td>\n",
       "      <td>NaN</td>\n",
       "    </tr>\n",
       "    <tr>\n",
       "      <td>4</td>\n",
       "      <td>1417580</td>\n",
       "      <td>149787903119437</td>\n",
       "      <td>Organic Search</td>\n",
       "      <td>20</td>\n",
       "      <td>147</td>\n",
       "      <td>0</td>\n",
       "      <td>1</td>\n",
       "      <td>1</td>\n",
       "      <td>Chrome</td>\n",
       "      <td>Android</td>\n",
       "      <td>...</td>\n",
       "      <td>1.0</td>\n",
       "      <td>1.0</td>\n",
       "      <td>1.0</td>\n",
       "      <td>1.0</td>\n",
       "      <td>NaN</td>\n",
       "      <td>1</td>\n",
       "      <td>0.0</td>\n",
       "      <td>0</td>\n",
       "      <td>NaN</td>\n",
       "      <td>NaN</td>\n",
       "    </tr>\n",
       "    <tr>\n",
       "      <td>...</td>\n",
       "      <td>...</td>\n",
       "      <td>...</td>\n",
       "      <td>...</td>\n",
       "      <td>...</td>\n",
       "      <td>...</td>\n",
       "      <td>...</td>\n",
       "      <td>...</td>\n",
       "      <td>...</td>\n",
       "      <td>...</td>\n",
       "      <td>...</td>\n",
       "      <td>...</td>\n",
       "      <td>...</td>\n",
       "      <td>...</td>\n",
       "      <td>...</td>\n",
       "      <td>...</td>\n",
       "      <td>...</td>\n",
       "      <td>...</td>\n",
       "      <td>...</td>\n",
       "      <td>...</td>\n",
       "      <td>...</td>\n",
       "      <td>...</td>\n",
       "    </tr>\n",
       "    <tr>\n",
       "      <td>296525</td>\n",
       "      <td>1714101</td>\n",
       "      <td>9999862054614696520</td>\n",
       "      <td>Organic Search</td>\n",
       "      <td>7</td>\n",
       "      <td>160</td>\n",
       "      <td>0</td>\n",
       "      <td>1</td>\n",
       "      <td>1</td>\n",
       "      <td>Chrome</td>\n",
       "      <td>Macintosh</td>\n",
       "      <td>...</td>\n",
       "      <td>12.0</td>\n",
       "      <td>12.0</td>\n",
       "      <td>12.0</td>\n",
       "      <td>12.0</td>\n",
       "      <td>NaN</td>\n",
       "      <td>1</td>\n",
       "      <td>0.0</td>\n",
       "      <td>0</td>\n",
       "      <td>NaN</td>\n",
       "      <td>NaN</td>\n",
       "    </tr>\n",
       "    <tr>\n",
       "      <td>296526</td>\n",
       "      <td>1714102</td>\n",
       "      <td>9999898168621645223</td>\n",
       "      <td>Organic Search</td>\n",
       "      <td>67</td>\n",
       "      <td>100</td>\n",
       "      <td>0</td>\n",
       "      <td>1</td>\n",
       "      <td>1</td>\n",
       "      <td>Safari</td>\n",
       "      <td>iOS</td>\n",
       "      <td>...</td>\n",
       "      <td>3.0</td>\n",
       "      <td>3.0</td>\n",
       "      <td>3.0</td>\n",
       "      <td>3.0</td>\n",
       "      <td>NaN</td>\n",
       "      <td>1</td>\n",
       "      <td>0.0</td>\n",
       "      <td>0</td>\n",
       "      <td>NaN</td>\n",
       "      <td>NaN</td>\n",
       "    </tr>\n",
       "    <tr>\n",
       "      <td>296527</td>\n",
       "      <td>1714103</td>\n",
       "      <td>999990167740728398</td>\n",
       "      <td>Direct</td>\n",
       "      <td>93</td>\n",
       "      <td>74</td>\n",
       "      <td>0</td>\n",
       "      <td>1</td>\n",
       "      <td>1</td>\n",
       "      <td>Opera Mini</td>\n",
       "      <td>(not set)</td>\n",
       "      <td>...</td>\n",
       "      <td>1.0</td>\n",
       "      <td>1.0</td>\n",
       "      <td>1.0</td>\n",
       "      <td>1.0</td>\n",
       "      <td>NaN</td>\n",
       "      <td>1</td>\n",
       "      <td>0.0</td>\n",
       "      <td>0</td>\n",
       "      <td>NaN</td>\n",
       "      <td>NaN</td>\n",
       "    </tr>\n",
       "    <tr>\n",
       "      <td>296528</td>\n",
       "      <td>1714104</td>\n",
       "      <td>9999915620249883537</td>\n",
       "      <td>Organic Search</td>\n",
       "      <td>46</td>\n",
       "      <td>121</td>\n",
       "      <td>0</td>\n",
       "      <td>1</td>\n",
       "      <td>1</td>\n",
       "      <td>Chrome</td>\n",
       "      <td>Windows</td>\n",
       "      <td>...</td>\n",
       "      <td>7.0</td>\n",
       "      <td>7.0</td>\n",
       "      <td>7.0</td>\n",
       "      <td>7.0</td>\n",
       "      <td>NaN</td>\n",
       "      <td>1</td>\n",
       "      <td>0.0</td>\n",
       "      <td>0</td>\n",
       "      <td>NaN</td>\n",
       "      <td>NaN</td>\n",
       "    </tr>\n",
       "    <tr>\n",
       "      <td>296529</td>\n",
       "      <td>1714105</td>\n",
       "      <td>9999947552481876143</td>\n",
       "      <td>Organic Search</td>\n",
       "      <td>108</td>\n",
       "      <td>59</td>\n",
       "      <td>0</td>\n",
       "      <td>1</td>\n",
       "      <td>1</td>\n",
       "      <td>Chrome</td>\n",
       "      <td>Windows</td>\n",
       "      <td>...</td>\n",
       "      <td>2.0</td>\n",
       "      <td>2.0</td>\n",
       "      <td>2.0</td>\n",
       "      <td>2.0</td>\n",
       "      <td>NaN</td>\n",
       "      <td>1</td>\n",
       "      <td>0.0</td>\n",
       "      <td>0</td>\n",
       "      <td>NaN</td>\n",
       "      <td>NaN</td>\n",
       "    </tr>\n",
       "  </tbody>\n",
       "</table>\n",
       "<p>296530 rows × 41 columns</p>\n",
       "</div>"
      ],
      "text/plain": [
       "        Unnamed: 0        fullVisitorId channelGrouping  \\\n",
       "0          1417576       18966949534117  Organic Search   \n",
       "1          1417577       39738481224681          Direct   \n",
       "2          1417578       73585230191399  Organic Search   \n",
       "3          1417579       87588448856385  Organic Search   \n",
       "4          1417580      149787903119437  Organic Search   \n",
       "...            ...                  ...             ...   \n",
       "296525     1714101  9999862054614696520  Organic Search   \n",
       "296526     1714102  9999898168621645223  Organic Search   \n",
       "296527     1714103   999990167740728398          Direct   \n",
       "296528     1714104  9999915620249883537  Organic Search   \n",
       "296529     1714105  9999947552481876143  Organic Search   \n",
       "\n",
       "        first_ses_from_the_period_start  last_ses_from_the_period_end  \\\n",
       "0                                   104                            63   \n",
       "1                                    43                           124   \n",
       "2                                    33                           134   \n",
       "3                                    36                           131   \n",
       "4                                    20                           147   \n",
       "...                                 ...                           ...   \n",
       "296525                                7                           160   \n",
       "296526                               67                           100   \n",
       "296527                               93                            74   \n",
       "296528                               46                           121   \n",
       "296529                              108                            59   \n",
       "\n",
       "        interval_dates  unique_date_num  maxVisitNum     browser  \\\n",
       "0                    0                1            1      Chrome   \n",
       "1                    0                1            1      Chrome   \n",
       "2                    0                1            1      Safari   \n",
       "3                    0                1            1      Chrome   \n",
       "4                    0                1            1      Chrome   \n",
       "...                ...              ...          ...         ...   \n",
       "296525               0                1            1      Chrome   \n",
       "296526               0                1            1      Safari   \n",
       "296527               0                1            1  Opera Mini   \n",
       "296528               0                1            1      Chrome   \n",
       "296529               0                1            1      Chrome   \n",
       "\n",
       "       operatingSystem  ... pageviews_mean pageviews_min pageviews_max  \\\n",
       "0            Macintosh  ...            7.0           7.0           7.0   \n",
       "1              Android  ...            1.0           1.0           1.0   \n",
       "2                  iOS  ...            1.0           1.0           1.0   \n",
       "3              Windows  ...            1.0           1.0           1.0   \n",
       "4              Android  ...            1.0           1.0           1.0   \n",
       "...                ...  ...            ...           ...           ...   \n",
       "296525       Macintosh  ...           12.0          12.0          12.0   \n",
       "296526             iOS  ...            3.0           3.0           3.0   \n",
       "296527       (not set)  ...            1.0           1.0           1.0   \n",
       "296528         Windows  ...            7.0           7.0           7.0   \n",
       "296529         Windows  ...            2.0           2.0           2.0   \n",
       "\n",
       "       pageviews_median pageviews_sd session_cnt transactionRevenue  \\\n",
       "0                   7.0          NaN           1                0.0   \n",
       "1                   1.0          NaN           1                0.0   \n",
       "2                   1.0          NaN           1                0.0   \n",
       "3                   1.0          NaN           1                0.0   \n",
       "4                   1.0          NaN           1                0.0   \n",
       "...                 ...          ...         ...                ...   \n",
       "296525             12.0          NaN           1                0.0   \n",
       "296526              3.0          NaN           1                0.0   \n",
       "296527              1.0          NaN           1                0.0   \n",
       "296528              7.0          NaN           1                0.0   \n",
       "296529              2.0          NaN           1                0.0   \n",
       "\n",
       "       transactions target ret  \n",
       "0                 0    NaN NaN  \n",
       "1                 0    NaN NaN  \n",
       "2                 0    NaN NaN  \n",
       "3                 0    NaN NaN  \n",
       "4                 0    NaN NaN  \n",
       "...             ...    ...  ..  \n",
       "296525            0    NaN NaN  \n",
       "296526            0    NaN NaN  \n",
       "296527            0    NaN NaN  \n",
       "296528            0    NaN NaN  \n",
       "296529            0    NaN NaN  \n",
       "\n",
       "[296530 rows x 41 columns]"
      ]
     },
     "execution_count": 18,
     "metadata": {},
     "output_type": "execute_result"
    }
   ],
   "source": [
    "df_test = pd.read_csv(r'C:\\Users\\ACER\\Desktop\\UMN\\Predictive Analysis\\FinalProject\\data\\test_final.csv')\n",
    "len(df_test)\n",
    "df_test"
   ]
  },
  {
   "cell_type": "code",
   "execution_count": 19,
   "metadata": {},
   "outputs": [],
   "source": [
    "df_test = df_test.drop(columns = ['isVideoAd_mean',\n",
    "                            'Unnamed: 0',\n",
    "                            'isTrueDirect',\n",
    "                            'hits_min',\n",
    "                            'hits_max',\n",
    "                            'hits_median',\n",
    "                            'hits_sd',\n",
    "                            'pageviews_min',\n",
    "                            'pageviews_max',\n",
    "                            'pageviews_median',\n",
    "                            'pageviews_sd'])"
   ]
  },
  {
   "cell_type": "code",
   "execution_count": 20,
   "metadata": {},
   "outputs": [],
   "source": [
    "# use label encoding to convert categorical data to numeric one\n",
    "c = ['city','browser','channelGrouping',\"operatingSystem\",\"continent\",'subContinent','country',\n",
    "                             'region','metro','networkDomain','source','medium','deviceCategory']\n",
    "le = preprocessing.LabelEncoder()\n",
    "for col in c:\n",
    "    df[col] = le.fit_transform(df[col].values)\n",
    "    df_test[col] = le.fit_transform(df_test[col].values)"
   ]
  },
  {
   "cell_type": "code",
   "execution_count": 21,
   "metadata": {},
   "outputs": [],
   "source": [
    "x_train_return = df.drop(['fullVisitorId','target','ret'], axis = 1)\n",
    "y_train_return = df['ret']\n",
    "\n",
    "x_train_target = df[df['ret'] == 1].drop(['fullVisitorId','target','ret'], axis = 1)\n",
    "y_train_target = df[df['ret'] == 1]['target']\n",
    "\n",
    "x_test = df_test.drop(['fullVisitorId','target','ret'], axis = 1)"
   ]
  },
  {
   "cell_type": "code",
   "execution_count": 22,
   "metadata": {},
   "outputs": [
    {
     "name": "stdout",
     "output_type": "stream",
     "text": [
      "<class 'pandas.core.frame.DataFrame'>\n",
      "RangeIndex: 296530 entries, 0 to 296529\n",
      "Data columns (total 27 columns):\n",
      "channelGrouping                    296530 non-null int32\n",
      "first_ses_from_the_period_start    296530 non-null int64\n",
      "last_ses_from_the_period_end       296530 non-null int64\n",
      "interval_dates                     296530 non-null int64\n",
      "unique_date_num                    296530 non-null int64\n",
      "maxVisitNum                        296530 non-null int64\n",
      "browser                            296530 non-null int32\n",
      "operatingSystem                    296530 non-null int32\n",
      "deviceCategory                     296530 non-null int32\n",
      "continent                          296530 non-null int32\n",
      "subContinent                       296530 non-null int32\n",
      "country                            296530 non-null int32\n",
      "region                             296530 non-null int32\n",
      "metro                              296530 non-null int32\n",
      "city                               296530 non-null int32\n",
      "networkDomain                      296530 non-null int32\n",
      "source                             296530 non-null int32\n",
      "medium                             296530 non-null int32\n",
      "isMobile                           296530 non-null float64\n",
      "bounce_sessions                    296530 non-null int64\n",
      "hits_sum                           296530 non-null int64\n",
      "hits_mean                          296530 non-null float64\n",
      "pageviews_sum                      296530 non-null int64\n",
      "pageviews_mean                     296520 non-null float64\n",
      "session_cnt                        296530 non-null int64\n",
      "transactionRevenue                 296530 non-null float64\n",
      "transactions                       296530 non-null int64\n",
      "dtypes: float64(4), int32(13), int64(10)\n",
      "memory usage: 46.4 MB\n"
     ]
    }
   ],
   "source": [
    "x_test.info()"
   ]
  },
  {
   "cell_type": "code",
   "execution_count": 23,
   "metadata": {},
   "outputs": [],
   "source": [
    "# Split train and validation data\n",
    "\n",
    "# for target variable = return\n",
    "x_train_return, x_valid_return, y_train_return, y_valid_return = train_test_split(x_train_return, y_train_return, test_size=0.33)\n",
    "\n",
    "# for target variable = target\n",
    "x_train_target, x_valid_target, y_train_target, y_valid_target = train_test_split(x_train_target, y_train_target, test_size=0.33)"
   ]
  },
  {
   "cell_type": "code",
   "execution_count": 676,
   "metadata": {},
   "outputs": [],
   "source": [
    "# Normalized training dataset\n",
    "\n",
    "# Normalize train_target\n",
    "from sklearn.preprocessing import MinMaxScaler\n",
    "scaler = MinMaxScaler()\n",
    "scaler.fit(x_train_target)\n",
    "x_train_target_scaled = scaler.transform(x_train_target)\n",
    "x_valid_target_scaled = scaler.transform(x_valid_target)\n",
    "\n",
    "# Normalize train_return \n",
    "scaler = MinMaxScaler()\n",
    "scaler.fit(x_train_return)\n",
    "x_train_return_scaled = scaler.transform(x_train_return)\n",
    "x_valid_return_scaled = scaler.transform(x_valid_return)\n",
    "\n",
    "# Normalize test dataset\n",
    "scaler = MinMaxScaler()\n",
    "scaler.fit(x_test)\n",
    "x_test_scaled = scaler.transform(x_test)"
   ]
  },
  {
   "cell_type": "code",
   "execution_count": 677,
   "metadata": {},
   "outputs": [],
   "source": [
    "# Deal with nan values\n",
    "np.argwhere(np.isnan(x_train_return_scaled))\n",
    "x_train_return_scaled = np.nan_to_num(x_train_return_scaled)\n",
    "\n",
    "np.argwhere(np.isnan(x_valid_return_scaled))\n",
    "x_valid_return_scaled = np.nan_to_num(x_valid_return_scaled)\n",
    "\n",
    "np.argwhere(np.isnan(x_test_scaled))\n",
    "x_test_scaled = np.nan_to_num(x_test_scaled)"
   ]
  },
  {
   "cell_type": "markdown",
   "metadata": {},
   "source": [
    "## Model 1 : Random Forest"
   ]
  },
  {
   "cell_type": "markdown",
   "metadata": {},
   "source": [
    "### Using original features to see the model performance"
   ]
  },
  {
   "cell_type": "code",
   "execution_count": 678,
   "metadata": {},
   "outputs": [],
   "source": [
    "# Download necessary library for random forest regressor\n",
    "from sklearn.ensemble import RandomForestRegressor\n",
    "from sklearn.ensemble import RandomForestClassifier"
   ]
  },
  {
   "cell_type": "code",
   "execution_count": 680,
   "metadata": {
    "scrolled": true
   },
   "outputs": [
    {
     "data": {
      "text/plain": [
       "RandomForestClassifier(bootstrap=True, class_weight=None, criterion='gini',\n",
       "                       max_depth=3, max_features='auto', max_leaf_nodes=None,\n",
       "                       min_impurity_decrease=0.0, min_impurity_split=None,\n",
       "                       min_samples_leaf=1, min_samples_split=2,\n",
       "                       min_weight_fraction_leaf=0.0, n_estimators=100,\n",
       "                       n_jobs=None, oob_score=False, random_state=0, verbose=0,\n",
       "                       warm_start=False)"
      ]
     },
     "execution_count": 680,
     "metadata": {},
     "output_type": "execute_result"
    }
   ],
   "source": [
    "# Build random forest classification model\n",
    "clf = RandomForestClassifier(n_estimators=100, max_depth=3, random_state=0)\n",
    "clf.fit(x_train_return_scaled, y_train_return)"
   ]
  },
  {
   "cell_type": "code",
   "execution_count": 679,
   "metadata": {
    "scrolled": true
   },
   "outputs": [
    {
     "data": {
      "text/plain": [
       "RandomForestRegressor(bootstrap=True, criterion='mse', max_depth=10,\n",
       "                      max_features='auto', max_leaf_nodes=None,\n",
       "                      min_impurity_decrease=0.0, min_impurity_split=None,\n",
       "                      min_samples_leaf=1, min_samples_split=2,\n",
       "                      min_weight_fraction_leaf=0.0, n_estimators=100,\n",
       "                      n_jobs=None, oob_score=False, random_state=None,\n",
       "                      verbose=0, warm_start=False)"
      ]
     },
     "execution_count": 679,
     "metadata": {},
     "output_type": "execute_result"
    }
   ],
   "source": [
    "# Build random forest regression model\n",
    "reg = RandomForestRegressor(max_depth=10, n_estimators=100)\n",
    "reg.fit(x_train_target_scaled, y_train_target)"
   ]
  },
  {
   "cell_type": "code",
   "execution_count": 682,
   "metadata": {
    "scrolled": true
   },
   "outputs": [
    {
     "name": "stdout",
     "output_type": "stream",
     "text": [
      "              precision    recall  f1-score   support\n",
      "\n",
      "           0       0.99      1.00      1.00    464923\n",
      "           1       0.00      0.00      0.00      2877\n",
      "\n",
      "    accuracy                           0.99    467800\n",
      "   macro avg       0.50      0.50      0.50    467800\n",
      "weighted avg       0.99      0.99      0.99    467800\n",
      "\n",
      "Its R-square of random forest regression model is 0.4786546091953813\n"
     ]
    }
   ],
   "source": [
    "# Classification Report\n",
    "y_pred_valid_return = clf.predict(x_valid_return_scaled)\n",
    "print(classification_report(y_valid_return, y_pred_valid_return))\n",
    "# Calculating R-square\n",
    "print(\"Its R-square of random forest regression model is\", reg.score(x_train_target_scaled, y_train_target))"
   ]
  },
  {
   "cell_type": "code",
   "execution_count": 683,
   "metadata": {},
   "outputs": [
    {
     "name": "stdout",
     "output_type": "stream",
     "text": [
      "Its RMSE of random forest regression model is 4.00323956489714\n"
     ]
    }
   ],
   "source": [
    "# Calculating RMSE before tuning hyperparameters\n",
    "y_pred_target = reg.predict(x_valid_target_scaled)\n",
    "print(\"The RMSE of random forest regression model is\",np.sqrt(mean_squared_error(y_valid_target, y_pred_target)))"
   ]
  },
  {
   "cell_type": "markdown",
   "metadata": {},
   "source": [
    "### Utilizing randomizedsearchCV to tune hyperparameters"
   ]
  },
  {
   "cell_type": "code",
   "execution_count": 684,
   "metadata": {
    "scrolled": true
   },
   "outputs": [
    {
     "name": "stdout",
     "output_type": "stream",
     "text": [
      "{'n_estimators': [200, 233, 266, 300, 333, 366, 400, 433, 466, 500], 'max_features': ['auto', 'sqrt'], 'max_depth': [10, 19, 28, 37, 46, 55, 64, 73, 82, 91, 100, None], 'min_samples_split': [2, 5, 10], 'min_samples_leaf': [1, 2, 4], 'bootstrap': [True, False]}\n"
     ]
    }
   ],
   "source": [
    "from sklearn.model_selection import RandomizedSearchCV\n",
    "# Number of trees in random forest\n",
    "n_estimators = [int(x) for x in np.linspace(start = 200, stop = 500, num = 10)]\n",
    "\n",
    "# Number of features to consider at every split\n",
    "max_features = ['auto', 'sqrt']\n",
    "\n",
    "# Maximum number of levels in tree\n",
    "max_depth = [int(x) for x in np.linspace(10, 100, num = 11)]\n",
    "max_depth.append(None)\n",
    "\n",
    "# Minimum number of samples required to split a node\n",
    "min_samples_split = [2, 5, 10]\n",
    "\n",
    "# Minimum number of samples required at each leaf node\n",
    "min_samples_leaf = [1, 2, 4]\n",
    "\n",
    "# Method of selecting samples for training each tree\n",
    "bootstrap = [True, False]\n",
    "# Create the random grid\n",
    "random_grid = {'n_estimators': n_estimators,\n",
    "               'max_features': max_features,\n",
    "               'max_depth': max_depth,\n",
    "               'min_samples_split': min_samples_split,\n",
    "               'min_samples_leaf': min_samples_leaf,\n",
    "               'bootstrap': bootstrap}\n",
    "print(random_grid)"
   ]
  },
  {
   "cell_type": "code",
   "execution_count": 685,
   "metadata": {
    "scrolled": true
   },
   "outputs": [
    {
     "name": "stdout",
     "output_type": "stream",
     "text": [
      "Fitting 3 folds for each of 10 candidates, totalling 30 fits\n"
     ]
    },
    {
     "name": "stderr",
     "output_type": "stream",
     "text": [
      "[Parallel(n_jobs=-1)]: Using backend LokyBackend with 8 concurrent workers.\n",
      "[Parallel(n_jobs=-1)]: Done  30 out of  30 | elapsed:  1.2min finished\n"
     ]
    },
    {
     "data": {
      "text/plain": [
       "RandomizedSearchCV(cv=3, error_score='raise-deprecating',\n",
       "                   estimator=RandomForestRegressor(bootstrap=True,\n",
       "                                                   criterion='mse',\n",
       "                                                   max_depth=None,\n",
       "                                                   max_features='auto',\n",
       "                                                   max_leaf_nodes=None,\n",
       "                                                   min_impurity_decrease=0.0,\n",
       "                                                   min_impurity_split=None,\n",
       "                                                   min_samples_leaf=1,\n",
       "                                                   min_samples_split=2,\n",
       "                                                   min_weight_fraction_leaf=0.0,\n",
       "                                                   n_estimators='warn',\n",
       "                                                   n_jobs=None, oob_score=False,\n",
       "                                                   random_sta...\n",
       "                   iid='warn', n_iter=10, n_jobs=-1,\n",
       "                   param_distributions={'bootstrap': [True, False],\n",
       "                                        'max_depth': [10, 19, 28, 37, 46, 55,\n",
       "                                                      64, 73, 82, 91, 100,\n",
       "                                                      None],\n",
       "                                        'max_features': ['auto', 'sqrt'],\n",
       "                                        'min_samples_leaf': [1, 2, 4],\n",
       "                                        'min_samples_split': [2, 5, 10],\n",
       "                                        'n_estimators': [200, 233, 266, 300,\n",
       "                                                         333, 366, 400, 433,\n",
       "                                                         466, 500]},\n",
       "                   pre_dispatch='2*n_jobs', random_state=42, refit=True,\n",
       "                   return_train_score=False, scoring=None, verbose=2)"
      ]
     },
     "execution_count": 685,
     "metadata": {},
     "output_type": "execute_result"
    }
   ],
   "source": [
    "# Use RandomizedSearchCV for best hyperparameters\n",
    "\n",
    "# First create the base model to tune\n",
    "reg2 = RandomForestRegressor()\n",
    "# Random search of parameters, using 3 fold cross validation, \n",
    "# search across 100 different combinations, and use all available cores\n",
    "reg2_random = RandomizedSearchCV(estimator = reg2, param_distributions = random_grid, n_iter = 10, cv = 3, verbose=2, random_state=42, n_jobs = -1)\n",
    "# Fit the random search model\n",
    "reg2_random.fit(x_train_target_scaled, y_train_target)"
   ]
  },
  {
   "cell_type": "code",
   "execution_count": 686,
   "metadata": {},
   "outputs": [
    {
     "data": {
      "text/plain": [
       "{'n_estimators': 200,\n",
       " 'min_samples_split': 5,\n",
       " 'min_samples_leaf': 2,\n",
       " 'max_features': 'sqrt',\n",
       " 'max_depth': 10,\n",
       " 'bootstrap': True}"
      ]
     },
     "execution_count": 686,
     "metadata": {},
     "output_type": "execute_result"
    }
   ],
   "source": [
    "reg2_random.best_params_"
   ]
  },
  {
   "cell_type": "code",
   "execution_count": 687,
   "metadata": {},
   "outputs": [
    {
     "name": "stdout",
     "output_type": "stream",
     "text": [
      "Its RMSE of tuned random forest model is 3.901847198007343\n"
     ]
    }
   ],
   "source": [
    "best_random = RandomForestRegressor(n_estimators=200,\n",
    "                                 min_samples_split=5,\n",
    "                                 min_samples_leaf=2,\n",
    "                                 max_features='sqrt',\n",
    "                                 max_depth=10,\n",
    "                                 bootstrap=True)\n",
    "\n",
    "best_random.fit(x_train_target_scaled, y_train_target)\n",
    "y_predF = best_random.predict(x_valid_target_scaled)\n",
    "print(\"Its RMSE of tuned random forest model is\",np.sqrt(mean_squared_error(y_valid_target, y_predF)))"
   ]
  },
  {
   "cell_type": "code",
   "execution_count": 688,
   "metadata": {
    "scrolled": false
   },
   "outputs": [
    {
     "data": {
      "text/plain": [
       "array([0.28238238, 0.3591359 , 0.02736908, ..., 0.25784802, 0.36411663,\n",
       "       0.37251495])"
      ]
     },
     "execution_count": 688,
     "metadata": {},
     "output_type": "execute_result"
    }
   ],
   "source": [
    "y_pred_target =  best_random.predict(x_test_scaled)\n",
    "y_pred_target"
   ]
  },
  {
   "cell_type": "code",
   "execution_count": 689,
   "metadata": {},
   "outputs": [],
   "source": [
    "df_test1 = pd.read_csv(r'C:\\Users\\ACER\\Desktop\\UMN\\Predictive Analysis\\FinalProject\\data\\test.csv',converters={'fullVisitorId': lambda x: str(x)})"
   ]
  },
  {
   "cell_type": "code",
   "execution_count": 691,
   "metadata": {},
   "outputs": [
    {
     "data": {
      "text/html": [
       "<div>\n",
       "<style scoped>\n",
       "    .dataframe tbody tr th:only-of-type {\n",
       "        vertical-align: middle;\n",
       "    }\n",
       "\n",
       "    .dataframe tbody tr th {\n",
       "        vertical-align: top;\n",
       "    }\n",
       "\n",
       "    .dataframe thead th {\n",
       "        text-align: right;\n",
       "    }\n",
       "</style>\n",
       "<table border=\"1\" class=\"dataframe\">\n",
       "  <thead>\n",
       "    <tr style=\"text-align: right;\">\n",
       "      <th></th>\n",
       "      <th>fullVisitorId</th>\n",
       "      <th>PredictedLogRevenue</th>\n",
       "    </tr>\n",
       "  </thead>\n",
       "  <tbody>\n",
       "    <tr>\n",
       "      <td>0</td>\n",
       "      <td>0000018966949534117</td>\n",
       "      <td>0.282382</td>\n",
       "    </tr>\n",
       "    <tr>\n",
       "      <td>1</td>\n",
       "      <td>0000039738481224681</td>\n",
       "      <td>0.359136</td>\n",
       "    </tr>\n",
       "    <tr>\n",
       "      <td>2</td>\n",
       "      <td>0000073585230191399</td>\n",
       "      <td>0.027369</td>\n",
       "    </tr>\n",
       "    <tr>\n",
       "      <td>3</td>\n",
       "      <td>0000087588448856385</td>\n",
       "      <td>0.037537</td>\n",
       "    </tr>\n",
       "    <tr>\n",
       "      <td>4</td>\n",
       "      <td>0000149787903119437</td>\n",
       "      <td>0.004584</td>\n",
       "    </tr>\n",
       "    <tr>\n",
       "      <td>...</td>\n",
       "      <td>...</td>\n",
       "      <td>...</td>\n",
       "    </tr>\n",
       "    <tr>\n",
       "      <td>296525</td>\n",
       "      <td>9999862054614696520</td>\n",
       "      <td>0.964398</td>\n",
       "    </tr>\n",
       "    <tr>\n",
       "      <td>296526</td>\n",
       "      <td>9999898168621645223</td>\n",
       "      <td>0.036835</td>\n",
       "    </tr>\n",
       "    <tr>\n",
       "      <td>296527</td>\n",
       "      <td>999990167740728398</td>\n",
       "      <td>0.257848</td>\n",
       "    </tr>\n",
       "    <tr>\n",
       "      <td>296528</td>\n",
       "      <td>9999915620249883537</td>\n",
       "      <td>0.364117</td>\n",
       "    </tr>\n",
       "    <tr>\n",
       "      <td>296529</td>\n",
       "      <td>9999947552481876143</td>\n",
       "      <td>0.372515</td>\n",
       "    </tr>\n",
       "  </tbody>\n",
       "</table>\n",
       "<p>296530 rows × 2 columns</p>\n",
       "</div>"
      ],
      "text/plain": [
       "              fullVisitorId  PredictedLogRevenue\n",
       "0       0000018966949534117             0.282382\n",
       "1       0000039738481224681             0.359136\n",
       "2       0000073585230191399             0.027369\n",
       "3       0000087588448856385             0.037537\n",
       "4       0000149787903119437             0.004584\n",
       "...                     ...                  ...\n",
       "296525  9999862054614696520             0.964398\n",
       "296526  9999898168621645223             0.036835\n",
       "296527   999990167740728398             0.257848\n",
       "296528  9999915620249883537             0.364117\n",
       "296529  9999947552481876143             0.372515\n",
       "\n",
       "[296530 rows x 2 columns]"
      ]
     },
     "execution_count": 691,
     "metadata": {},
     "output_type": "execute_result"
    }
   ],
   "source": [
    "#test\n",
    "data = {'fullVisitorId': [i for i in df_test1.fullVisitorId], 'PredictedLogRevenue': [j for j in y_pred_target]}\n",
    "submission_random_forest = pd.DataFrame(data)\n",
    "submission_random_forest"
   ]
  },
  {
   "cell_type": "code",
   "execution_count": 692,
   "metadata": {},
   "outputs": [],
   "source": [
    "import csv\n",
    "submission_random_forest.to_csv(r'C:\\Users\\ACER\\Desktop\\UMN\\Predictive Analysis\\FinalProject\\data\\submission_random_forest.csv', index = False)"
   ]
  },
  {
   "cell_type": "markdown",
   "metadata": {},
   "source": [
    "### Utilizing feature selection and executing random forest model with tuned hyperparameters"
   ]
  },
  {
   "cell_type": "code",
   "execution_count": 693,
   "metadata": {},
   "outputs": [],
   "source": [
    "#Feature Selection for classification\n",
    "feature_importances_clf = pd.DataFrame(clf.feature_importances_,\n",
    "                                   index = x_train_target.columns,\n",
    "                                    columns=['importance']).sort_values('importance', ascending=False)"
   ]
  },
  {
   "cell_type": "code",
   "execution_count": 694,
   "metadata": {},
   "outputs": [
    {
     "data": {
      "text/html": [
       "<div>\n",
       "<style scoped>\n",
       "    .dataframe tbody tr th:only-of-type {\n",
       "        vertical-align: middle;\n",
       "    }\n",
       "\n",
       "    .dataframe tbody tr th {\n",
       "        vertical-align: top;\n",
       "    }\n",
       "\n",
       "    .dataframe thead th {\n",
       "        text-align: right;\n",
       "    }\n",
       "</style>\n",
       "<table border=\"1\" class=\"dataframe\">\n",
       "  <thead>\n",
       "    <tr style=\"text-align: right;\">\n",
       "      <th></th>\n",
       "      <th>importance</th>\n",
       "    </tr>\n",
       "  </thead>\n",
       "  <tbody>\n",
       "    <tr>\n",
       "      <td>interval_dates</td>\n",
       "      <td>0.285881</td>\n",
       "    </tr>\n",
       "    <tr>\n",
       "      <td>maxVisitNum</td>\n",
       "      <td>0.186963</td>\n",
       "    </tr>\n",
       "    <tr>\n",
       "      <td>unique_date_num</td>\n",
       "      <td>0.154433</td>\n",
       "    </tr>\n",
       "    <tr>\n",
       "      <td>last_ses_from_the_period_end</td>\n",
       "      <td>0.144428</td>\n",
       "    </tr>\n",
       "    <tr>\n",
       "      <td>session_cnt</td>\n",
       "      <td>0.072903</td>\n",
       "    </tr>\n",
       "    <tr>\n",
       "      <td>pageviews_sum</td>\n",
       "      <td>0.041733</td>\n",
       "    </tr>\n",
       "    <tr>\n",
       "      <td>hits_sum</td>\n",
       "      <td>0.025367</td>\n",
       "    </tr>\n",
       "    <tr>\n",
       "      <td>first_ses_from_the_period_start</td>\n",
       "      <td>0.025121</td>\n",
       "    </tr>\n",
       "    <tr>\n",
       "      <td>bounce_sessions</td>\n",
       "      <td>0.015758</td>\n",
       "    </tr>\n",
       "    <tr>\n",
       "      <td>pageviews_mean</td>\n",
       "      <td>0.008133</td>\n",
       "    </tr>\n",
       "    <tr>\n",
       "      <td>hits_mean</td>\n",
       "      <td>0.007734</td>\n",
       "    </tr>\n",
       "    <tr>\n",
       "      <td>country</td>\n",
       "      <td>0.007131</td>\n",
       "    </tr>\n",
       "    <tr>\n",
       "      <td>transactionRevenue</td>\n",
       "      <td>0.004848</td>\n",
       "    </tr>\n",
       "    <tr>\n",
       "      <td>source</td>\n",
       "      <td>0.004131</td>\n",
       "    </tr>\n",
       "    <tr>\n",
       "      <td>medium</td>\n",
       "      <td>0.003448</td>\n",
       "    </tr>\n",
       "    <tr>\n",
       "      <td>transactions</td>\n",
       "      <td>0.002705</td>\n",
       "    </tr>\n",
       "    <tr>\n",
       "      <td>region</td>\n",
       "      <td>0.002504</td>\n",
       "    </tr>\n",
       "    <tr>\n",
       "      <td>deviceCategory</td>\n",
       "      <td>0.001740</td>\n",
       "    </tr>\n",
       "    <tr>\n",
       "      <td>operatingSystem</td>\n",
       "      <td>0.001393</td>\n",
       "    </tr>\n",
       "    <tr>\n",
       "      <td>channelGrouping</td>\n",
       "      <td>0.001089</td>\n",
       "    </tr>\n",
       "    <tr>\n",
       "      <td>networkDomain</td>\n",
       "      <td>0.000966</td>\n",
       "    </tr>\n",
       "    <tr>\n",
       "      <td>city</td>\n",
       "      <td>0.000576</td>\n",
       "    </tr>\n",
       "    <tr>\n",
       "      <td>metro</td>\n",
       "      <td>0.000378</td>\n",
       "    </tr>\n",
       "    <tr>\n",
       "      <td>subContinent</td>\n",
       "      <td>0.000355</td>\n",
       "    </tr>\n",
       "    <tr>\n",
       "      <td>isMobile</td>\n",
       "      <td>0.000250</td>\n",
       "    </tr>\n",
       "    <tr>\n",
       "      <td>browser</td>\n",
       "      <td>0.000030</td>\n",
       "    </tr>\n",
       "    <tr>\n",
       "      <td>continent</td>\n",
       "      <td>0.000000</td>\n",
       "    </tr>\n",
       "  </tbody>\n",
       "</table>\n",
       "</div>"
      ],
      "text/plain": [
       "                                 importance\n",
       "interval_dates                     0.285881\n",
       "maxVisitNum                        0.186963\n",
       "unique_date_num                    0.154433\n",
       "last_ses_from_the_period_end       0.144428\n",
       "session_cnt                        0.072903\n",
       "pageviews_sum                      0.041733\n",
       "hits_sum                           0.025367\n",
       "first_ses_from_the_period_start    0.025121\n",
       "bounce_sessions                    0.015758\n",
       "pageviews_mean                     0.008133\n",
       "hits_mean                          0.007734\n",
       "country                            0.007131\n",
       "transactionRevenue                 0.004848\n",
       "source                             0.004131\n",
       "medium                             0.003448\n",
       "transactions                       0.002705\n",
       "region                             0.002504\n",
       "deviceCategory                     0.001740\n",
       "operatingSystem                    0.001393\n",
       "channelGrouping                    0.001089\n",
       "networkDomain                      0.000966\n",
       "city                               0.000576\n",
       "metro                              0.000378\n",
       "subContinent                       0.000355\n",
       "isMobile                           0.000250\n",
       "browser                            0.000030\n",
       "continent                          0.000000"
      ]
     },
     "execution_count": 694,
     "metadata": {},
     "output_type": "execute_result"
    }
   ],
   "source": [
    "feature_importances_clf"
   ]
  },
  {
   "cell_type": "code",
   "execution_count": 695,
   "metadata": {},
   "outputs": [
    {
     "data": {
      "image/png": "[encoded data removed]",
      "text/plain": [
       "<Figure size 432x288 with 1 Axes>"
      ]
     },
     "metadata": {
      "needs_background": "light"
     },
     "output_type": "display_data"
    }
   ],
   "source": [
    "#plot graph of feature importances for better visualization\n",
    "import matplotlib.pyplot as plt\n",
    "feature_importances_clf2 = pd.Series(clf.feature_importances_, index=x_train_target.columns)\n",
    "feature_importances_clf2.nlargest(12).plot(kind='barh',color='g')\n",
    "plt.show()"
   ]
  },
  {
   "cell_type": "code",
   "execution_count": 697,
   "metadata": {
    "scrolled": false
   },
   "outputs": [
    {
     "data": {
      "text/plain": [
       "['interval_dates',\n",
       " 'maxVisitNum',\n",
       " 'unique_date_num',\n",
       " 'last_ses_from_the_period_end',\n",
       " 'session_cnt']"
      ]
     },
     "execution_count": 697,
     "metadata": {},
     "output_type": "execute_result"
    }
   ],
   "source": [
    "feature_importances_clf[feature_importances_clf['importance']>= 0.05].index.tolist()"
   ]
  },
  {
   "cell_type": "code",
   "execution_count": 698,
   "metadata": {},
   "outputs": [],
   "source": [
    "#Feature Selection for classification\n",
    "feature_importances_reg = pd.DataFrame(best_random.feature_importances_,\n",
    "                                   index = x_train_target.columns,\n",
    "                                    columns=['importance']).sort_values('importance', ascending=False)"
   ]
  },
  {
   "cell_type": "code",
   "execution_count": 699,
   "metadata": {},
   "outputs": [
    {
     "data": {
      "text/html": [
       "<div>\n",
       "<style scoped>\n",
       "    .dataframe tbody tr th:only-of-type {\n",
       "        vertical-align: middle;\n",
       "    }\n",
       "\n",
       "    .dataframe tbody tr th {\n",
       "        vertical-align: top;\n",
       "    }\n",
       "\n",
       "    .dataframe thead th {\n",
       "        text-align: right;\n",
       "    }\n",
       "</style>\n",
       "<table border=\"1\" class=\"dataframe\">\n",
       "  <thead>\n",
       "    <tr style=\"text-align: right;\">\n",
       "      <th></th>\n",
       "      <th>importance</th>\n",
       "    </tr>\n",
       "  </thead>\n",
       "  <tbody>\n",
       "    <tr>\n",
       "      <td>transactionRevenue</td>\n",
       "      <td>0.127108</td>\n",
       "    </tr>\n",
       "    <tr>\n",
       "      <td>first_ses_from_the_period_start</td>\n",
       "      <td>0.077094</td>\n",
       "    </tr>\n",
       "    <tr>\n",
       "      <td>hits_mean</td>\n",
       "      <td>0.073249</td>\n",
       "    </tr>\n",
       "    <tr>\n",
       "      <td>transactions</td>\n",
       "      <td>0.071604</td>\n",
       "    </tr>\n",
       "    <tr>\n",
       "      <td>hits_sum</td>\n",
       "      <td>0.070696</td>\n",
       "    </tr>\n",
       "    <tr>\n",
       "      <td>pageviews_mean</td>\n",
       "      <td>0.064597</td>\n",
       "    </tr>\n",
       "    <tr>\n",
       "      <td>last_ses_from_the_period_end</td>\n",
       "      <td>0.063047</td>\n",
       "    </tr>\n",
       "    <tr>\n",
       "      <td>pageviews_sum</td>\n",
       "      <td>0.062329</td>\n",
       "    </tr>\n",
       "    <tr>\n",
       "      <td>interval_dates</td>\n",
       "      <td>0.049413</td>\n",
       "    </tr>\n",
       "    <tr>\n",
       "      <td>networkDomain</td>\n",
       "      <td>0.037815</td>\n",
       "    </tr>\n",
       "    <tr>\n",
       "      <td>maxVisitNum</td>\n",
       "      <td>0.032151</td>\n",
       "    </tr>\n",
       "    <tr>\n",
       "      <td>city</td>\n",
       "      <td>0.029512</td>\n",
       "    </tr>\n",
       "    <tr>\n",
       "      <td>session_cnt</td>\n",
       "      <td>0.026894</td>\n",
       "    </tr>\n",
       "    <tr>\n",
       "      <td>unique_date_num</td>\n",
       "      <td>0.025497</td>\n",
       "    </tr>\n",
       "    <tr>\n",
       "      <td>region</td>\n",
       "      <td>0.024016</td>\n",
       "    </tr>\n",
       "    <tr>\n",
       "      <td>operatingSystem</td>\n",
       "      <td>0.023880</td>\n",
       "    </tr>\n",
       "    <tr>\n",
       "      <td>metro</td>\n",
       "      <td>0.022023</td>\n",
       "    </tr>\n",
       "    <tr>\n",
       "      <td>channelGrouping</td>\n",
       "      <td>0.021965</td>\n",
       "    </tr>\n",
       "    <tr>\n",
       "      <td>bounce_sessions</td>\n",
       "      <td>0.018272</td>\n",
       "    </tr>\n",
       "    <tr>\n",
       "      <td>country</td>\n",
       "      <td>0.017622</td>\n",
       "    </tr>\n",
       "    <tr>\n",
       "      <td>source</td>\n",
       "      <td>0.014289</td>\n",
       "    </tr>\n",
       "    <tr>\n",
       "      <td>medium</td>\n",
       "      <td>0.013169</td>\n",
       "    </tr>\n",
       "    <tr>\n",
       "      <td>continent</td>\n",
       "      <td>0.009252</td>\n",
       "    </tr>\n",
       "    <tr>\n",
       "      <td>subContinent</td>\n",
       "      <td>0.007856</td>\n",
       "    </tr>\n",
       "    <tr>\n",
       "      <td>browser</td>\n",
       "      <td>0.006161</td>\n",
       "    </tr>\n",
       "    <tr>\n",
       "      <td>deviceCategory</td>\n",
       "      <td>0.005272</td>\n",
       "    </tr>\n",
       "    <tr>\n",
       "      <td>isMobile</td>\n",
       "      <td>0.005216</td>\n",
       "    </tr>\n",
       "  </tbody>\n",
       "</table>\n",
       "</div>"
      ],
      "text/plain": [
       "                                 importance\n",
       "transactionRevenue                 0.127108\n",
       "first_ses_from_the_period_start    0.077094\n",
       "hits_mean                          0.073249\n",
       "transactions                       0.071604\n",
       "hits_sum                           0.070696\n",
       "pageviews_mean                     0.064597\n",
       "last_ses_from_the_period_end       0.063047\n",
       "pageviews_sum                      0.062329\n",
       "interval_dates                     0.049413\n",
       "networkDomain                      0.037815\n",
       "maxVisitNum                        0.032151\n",
       "city                               0.029512\n",
       "session_cnt                        0.026894\n",
       "unique_date_num                    0.025497\n",
       "region                             0.024016\n",
       "operatingSystem                    0.023880\n",
       "metro                              0.022023\n",
       "channelGrouping                    0.021965\n",
       "bounce_sessions                    0.018272\n",
       "country                            0.017622\n",
       "source                             0.014289\n",
       "medium                             0.013169\n",
       "continent                          0.009252\n",
       "subContinent                       0.007856\n",
       "browser                            0.006161\n",
       "deviceCategory                     0.005272\n",
       "isMobile                           0.005216"
      ]
     },
     "execution_count": 699,
     "metadata": {},
     "output_type": "execute_result"
    }
   ],
   "source": [
    "feature_importances_reg"
   ]
  },
  {
   "cell_type": "code",
   "execution_count": 700,
   "metadata": {},
   "outputs": [
    {
     "data": {
      "image/png": "[encoded data removed]",
      "text/plain": [
       "<Figure size 432x288 with 1 Axes>"
      ]
     },
     "metadata": {
      "needs_background": "light"
     },
     "output_type": "display_data"
    }
   ],
   "source": [
    "#plot graph of feature importances for better visualization\n",
    "import matplotlib.pyplot as plt\n",
    "feature_importances_reg2 = pd.Series(best_random.feature_importances_, index=x_train_target.columns)\n",
    "feature_importances_reg2.nlargest(12).plot(kind='barh',color='g')\n",
    "plt.show()"
   ]
  },
  {
   "cell_type": "code",
   "execution_count": 701,
   "metadata": {},
   "outputs": [
    {
     "data": {
      "text/plain": [
       "['transactionRevenue',\n",
       " 'first_ses_from_the_period_start',\n",
       " 'hits_mean',\n",
       " 'transactions',\n",
       " 'hits_sum',\n",
       " 'pageviews_mean',\n",
       " 'last_ses_from_the_period_end',\n",
       " 'pageviews_sum']"
      ]
     },
     "execution_count": 701,
     "metadata": {},
     "output_type": "execute_result"
    }
   ],
   "source": [
    "feature_importances_reg[feature_importances_reg['importance']>= 0.05].index.tolist()"
   ]
  },
  {
   "cell_type": "code",
   "execution_count": 713,
   "metadata": {},
   "outputs": [],
   "source": [
    "# Split train and validation data\n",
    "\n",
    "# for target variable = return\n",
    "x_train_return, x_valid_return, y_train_return, y_valid_return = train_test_split(x_train_return, y_train_return, test_size=0.33)\n",
    "\n",
    "# for target variable = target\n",
    "x_train_target, x_valid_target, y_train_target, y_valid_target = train_test_split(x_train_target, y_train_target, test_size=0.33)"
   ]
  },
  {
   "cell_type": "code",
   "execution_count": 714,
   "metadata": {},
   "outputs": [],
   "source": [
    "# Select important features\n",
    "x_train_return = x_train_return[['interval_dates',\n",
    "                                 'maxVisitNum',\n",
    "                                 'unique_date_num',\n",
    "                                 'last_ses_from_the_period_end',\n",
    "                                 'session_cnt']]\n",
    "x_valid_return = x_valid_return[['interval_dates',\n",
    "                                 'maxVisitNum',\n",
    "                                 'unique_date_num',\n",
    "                                 'last_ses_from_the_period_end',\n",
    "                                 'session_cnt']]\n",
    "x_train_target = x_train_target[['transactionRevenue',\n",
    "                                 'first_ses_from_the_period_start',\n",
    "                                 'hits_mean',\n",
    "                                 'transactions',\n",
    "                                 'hits_sum',\n",
    "                                 'pageviews_mean',\n",
    "                                 'last_ses_from_the_period_end',\n",
    "                                 'pageviews_sum']]\n",
    "x_valid_target = x_valid_target[['transactionRevenue',\n",
    "                                 'first_ses_from_the_period_start',\n",
    "                                 'hits_mean',\n",
    "                                 'transactions',\n",
    "                                 'hits_sum',\n",
    "                                 'pageviews_mean',\n",
    "                                 'last_ses_from_the_period_end',\n",
    "                                 'pageviews_sum']]\n",
    "x_test_return = x_test[['interval_dates',\n",
    "                                 'maxVisitNum',\n",
    "                                 'unique_date_num',\n",
    "                                 'last_ses_from_the_period_end',\n",
    "                                 'session_cnt']]\n",
    "\n",
    "x_test_target = x_test[['transactionRevenue',\n",
    "                                 'first_ses_from_the_period_start',\n",
    "                                 'hits_mean',\n",
    "                                 'transactions',\n",
    "                                 'hits_sum',\n",
    "                                 'pageviews_mean',\n",
    "                                 'last_ses_from_the_period_end',\n",
    "                                 'pageviews_sum']]"
   ]
  },
  {
   "cell_type": "code",
   "execution_count": 716,
   "metadata": {},
   "outputs": [],
   "source": [
    "# Normalized training & testing dataset\n",
    "\n",
    "# Normalize train_target\n",
    "from sklearn.preprocessing import MinMaxScaler\n",
    "scaler = MinMaxScaler()\n",
    "scaler.fit(x_train_target)\n",
    "x_train_target_scaled = scaler.transform(x_train_target)\n",
    "x_valid_target_scaled = scaler.transform(x_valid_target)\n",
    "\n",
    "# Normalize train_return\n",
    "scaler = MinMaxScaler()\n",
    "scaler.fit(x_train_return)\n",
    "x_train_return_scaled = scaler.transform(x_train_return)\n",
    "x_valid_return_scaled = scaler.transform(x_valid_return)\n",
    "\n",
    "# Normalize test\n",
    "scaler = MinMaxScaler()\n",
    "scaler.fit(x_test_return)\n",
    "x_test_return_scaled = scaler.transform(x_test_return)\n",
    "\n",
    "scaler.fit(x_test_target)\n",
    "x_test_target_scaled = scaler.transform(x_test_target)"
   ]
  },
  {
   "cell_type": "code",
   "execution_count": 717,
   "metadata": {},
   "outputs": [],
   "source": [
    "# Dealing with NAN value\n",
    "np.argwhere(np.isnan(x_train_return_scaled))\n",
    "x_train_return_scaled = np.nan_to_num(x_train_return_scaled)\n",
    "\n",
    "np.argwhere(np.isnan(x_valid_return_scaled))\n",
    "x_valid_return_scaled = np.nan_to_num(x_valid_return_scaled)\n",
    "\n",
    "np.argwhere(np.isnan(x_test_scaled))\n",
    "x_test_return_scaled = np.nan_to_num(x_test_return_scaled)\n",
    "x_test_target_scaled = np.nan_to_num(x_test_target_scaled)\n"
   ]
  },
  {
   "cell_type": "code",
   "execution_count": 718,
   "metadata": {
    "scrolled": true
   },
   "outputs": [
    {
     "data": {
      "text/plain": [
       "RandomForestClassifier(bootstrap=True, class_weight=None, criterion='gini',\n",
       "                       max_depth=3, max_features='auto', max_leaf_nodes=None,\n",
       "                       min_impurity_decrease=0.0, min_impurity_split=None,\n",
       "                       min_samples_leaf=1, min_samples_split=2,\n",
       "                       min_weight_fraction_leaf=0.0, n_estimators=100,\n",
       "                       n_jobs=None, oob_score=False, random_state=0, verbose=0,\n",
       "                       warm_start=False)"
      ]
     },
     "execution_count": 718,
     "metadata": {},
     "output_type": "execute_result"
    }
   ],
   "source": [
    "# Build random forest model\n",
    "# For classification model (target variable = return)\n",
    "clf = RandomForestClassifier(n_estimators=100, max_depth=3, random_state=0)\n",
    "clf.fit(x_train_return_scaled, y_train_return)"
   ]
  },
  {
   "cell_type": "code",
   "execution_count": 719,
   "metadata": {
    "scrolled": false
   },
   "outputs": [
    {
     "name": "stdout",
     "output_type": "stream",
     "text": [
      "              precision    recall  f1-score   support\n",
      "\n",
      "           0       0.99      1.00      1.00     93699\n",
      "           1       0.60      0.01      0.02       568\n",
      "\n",
      "    accuracy                           0.99     94267\n",
      "   macro avg       0.80      0.51      0.51     94267\n",
      "weighted avg       0.99      0.99      0.99     94267\n",
      "\n"
     ]
    },
    {
     "data": {
      "text/plain": [
       "RandomForestRegressor(bootstrap=True, criterion='mse', max_depth=10,\n",
       "                      max_features='auto', max_leaf_nodes=None,\n",
       "                      min_impurity_decrease=0.0, min_impurity_split=None,\n",
       "                      min_samples_leaf=1, min_samples_split=2,\n",
       "                      min_weight_fraction_leaf=0.0, n_estimators=100,\n",
       "                      n_jobs=None, oob_score=False, random_state=None,\n",
       "                      verbose=0, warm_start=False)"
      ]
     },
     "execution_count": 719,
     "metadata": {},
     "output_type": "execute_result"
    }
   ],
   "source": [
    "y_pred_valid_return = clf.predict(x_valid_return_scaled)\n",
    "# Classification Report\n",
    "print(classification_report(y_valid_return, y_pred_valid_return))\n",
    "\n",
    "# For regression model (target variable = target)\n",
    "reg = RandomForestRegressor(max_depth=10, n_estimators=100)\n",
    "reg.fit(x_train_target_scaled, y_train_target)"
   ]
  },
  {
   "cell_type": "code",
   "execution_count": 720,
   "metadata": {
    "scrolled": true
   },
   "outputs": [
    {
     "name": "stdout",
     "output_type": "stream",
     "text": [
      "Its R-square of random forest regression model is 0.722565384969677\n"
     ]
    }
   ],
   "source": [
    "# Calculating R-square\n",
    "print(\"Its R-square of random forest regression model is\", reg.score(x_train_target_scaled, y_train_target))"
   ]
  },
  {
   "cell_type": "code",
   "execution_count": 721,
   "metadata": {},
   "outputs": [
    {
     "name": "stdout",
     "output_type": "stream",
     "text": [
      "Its RMSE of tuned random forest model is 3.474077726323697\n"
     ]
    }
   ],
   "source": [
    "best_random.fit(x_train_target_scaled, y_train_target)\n",
    "y_predF_new = best_random.predict(x_valid_target_scaled)\n",
    "print(\"Its RMSE of tuned random forest model is\",np.sqrt(mean_squared_error(y_valid_target, y_predF_new)))"
   ]
  },
  {
   "cell_type": "code",
   "execution_count": 722,
   "metadata": {
    "scrolled": true
   },
   "outputs": [
    {
     "data": {
      "text/plain": [
       "array([0.16788353, 0.16438741, 0.16438741, ..., 0.36746037, 0.25762755,\n",
       "       0.53529752])"
      ]
     },
     "execution_count": 722,
     "metadata": {},
     "output_type": "execute_result"
    }
   ],
   "source": [
    "y_pred_target_new = best_random.predict(x_test_target_scaled)\n",
    "y_pred_target_new"
   ]
  },
  {
   "cell_type": "code",
   "execution_count": 723,
   "metadata": {},
   "outputs": [],
   "source": [
    "df_test1 = pd.read_csv(r'C:\\Users\\ACER\\Desktop\\UMN\\Predictive Analysis\\FinalProject\\data\\test.csv',converters={'fullVisitorId': lambda x: str(x)})"
   ]
  },
  {
   "cell_type": "code",
   "execution_count": 724,
   "metadata": {},
   "outputs": [
    {
     "data": {
      "text/html": [
       "<div>\n",
       "<style scoped>\n",
       "    .dataframe tbody tr th:only-of-type {\n",
       "        vertical-align: middle;\n",
       "    }\n",
       "\n",
       "    .dataframe tbody tr th {\n",
       "        vertical-align: top;\n",
       "    }\n",
       "\n",
       "    .dataframe thead th {\n",
       "        text-align: right;\n",
       "    }\n",
       "</style>\n",
       "<table border=\"1\" class=\"dataframe\">\n",
       "  <thead>\n",
       "    <tr style=\"text-align: right;\">\n",
       "      <th></th>\n",
       "      <th>fullVisitorId</th>\n",
       "      <th>PredictedLogRevenue</th>\n",
       "    </tr>\n",
       "  </thead>\n",
       "  <tbody>\n",
       "    <tr>\n",
       "      <td>0</td>\n",
       "      <td>0000018966949534117</td>\n",
       "      <td>0.282382</td>\n",
       "    </tr>\n",
       "    <tr>\n",
       "      <td>1</td>\n",
       "      <td>0000039738481224681</td>\n",
       "      <td>0.359136</td>\n",
       "    </tr>\n",
       "    <tr>\n",
       "      <td>2</td>\n",
       "      <td>0000073585230191399</td>\n",
       "      <td>0.027369</td>\n",
       "    </tr>\n",
       "    <tr>\n",
       "      <td>3</td>\n",
       "      <td>0000087588448856385</td>\n",
       "      <td>0.037537</td>\n",
       "    </tr>\n",
       "    <tr>\n",
       "      <td>4</td>\n",
       "      <td>0000149787903119437</td>\n",
       "      <td>0.004584</td>\n",
       "    </tr>\n",
       "    <tr>\n",
       "      <td>...</td>\n",
       "      <td>...</td>\n",
       "      <td>...</td>\n",
       "    </tr>\n",
       "    <tr>\n",
       "      <td>296525</td>\n",
       "      <td>9999862054614696520</td>\n",
       "      <td>0.964398</td>\n",
       "    </tr>\n",
       "    <tr>\n",
       "      <td>296526</td>\n",
       "      <td>9999898168621645223</td>\n",
       "      <td>0.036835</td>\n",
       "    </tr>\n",
       "    <tr>\n",
       "      <td>296527</td>\n",
       "      <td>999990167740728398</td>\n",
       "      <td>0.257848</td>\n",
       "    </tr>\n",
       "    <tr>\n",
       "      <td>296528</td>\n",
       "      <td>9999915620249883537</td>\n",
       "      <td>0.364117</td>\n",
       "    </tr>\n",
       "    <tr>\n",
       "      <td>296529</td>\n",
       "      <td>9999947552481876143</td>\n",
       "      <td>0.372515</td>\n",
       "    </tr>\n",
       "  </tbody>\n",
       "</table>\n",
       "<p>296530 rows × 2 columns</p>\n",
       "</div>"
      ],
      "text/plain": [
       "              fullVisitorId  PredictedLogRevenue\n",
       "0       0000018966949534117             0.282382\n",
       "1       0000039738481224681             0.359136\n",
       "2       0000073585230191399             0.027369\n",
       "3       0000087588448856385             0.037537\n",
       "4       0000149787903119437             0.004584\n",
       "...                     ...                  ...\n",
       "296525  9999862054614696520             0.964398\n",
       "296526  9999898168621645223             0.036835\n",
       "296527   999990167740728398             0.257848\n",
       "296528  9999915620249883537             0.364117\n",
       "296529  9999947552481876143             0.372515\n",
       "\n",
       "[296530 rows x 2 columns]"
      ]
     },
     "execution_count": 724,
     "metadata": {},
     "output_type": "execute_result"
    }
   ],
   "source": [
    "#test\n",
    "data_random_forest = {'fullVisitorId': [i for i in df_test1.fullVisitorId], 'PredictedLogRevenue': [j for j in y_pred_target_new]}\n",
    "submission_random_forest_new = pd.DataFrame(data)\n",
    "submission_random_forest_new "
   ]
  },
  {
   "cell_type": "code",
   "execution_count": 725,
   "metadata": {},
   "outputs": [],
   "source": [
    "submission_random_forest_new.to_csv(r'C:\\Users\\ACER\\Desktop\\UMN\\Predictive Analysis\\FinalProject\\data\\submission_random_forest2.csv', index = False)"
   ]
  },
  {
   "cell_type": "markdown",
   "metadata": {},
   "source": [
    "## Model 2 : XGboost"
   ]
  },
  {
   "cell_type": "code",
   "execution_count": 726,
   "metadata": {},
   "outputs": [],
   "source": [
    "# Import necessary libraries\n",
    "from sklearn import ensemble\n",
    "import xgboost as xgb\n",
    "from sklearn.utils import shuffle\n",
    "from sklearn.metrics import mean_squared_error"
   ]
  },
  {
   "cell_type": "code",
   "execution_count": 727,
   "metadata": {},
   "outputs": [],
   "source": [
    "x_train_return = df.drop(['fullVisitorId','target','ret'], axis = 1)\n",
    "y_train_return = df['ret']\n",
    "\n",
    "x_train_target = df[df['ret'] == 1].drop(['fullVisitorId','target','ret'], axis = 1)\n",
    "y_train_target = df[df['ret'] == 1]['target']\n",
    "\n",
    "x_test = df_test.drop(['fullVisitorId','target','ret'], axis = 1)"
   ]
  },
  {
   "cell_type": "code",
   "execution_count": 728,
   "metadata": {},
   "outputs": [],
   "source": [
    "# Split train and validation data\n",
    "\n",
    "# for target variable = return\n",
    "x_train_return, x_valid_return, y_train_return, y_valid_return = train_test_split(x_train_return, y_train_return, test_size=0.33)\n",
    "\n",
    "# for target variable = target\n",
    "x_train_target, x_valid_target, y_train_target, y_valid_target = train_test_split(x_train_target, y_train_target, test_size=0.33)"
   ]
  },
  {
   "cell_type": "code",
   "execution_count": 729,
   "metadata": {},
   "outputs": [],
   "source": [
    "# Normalized training & testing dataset\n",
    "\n",
    "# Normalize train_target\n",
    "from sklearn.preprocessing import MinMaxScaler\n",
    "scaler = MinMaxScaler()\n",
    "scaler.fit(x_train_target)\n",
    "x_train_target_scaled = scaler.transform(x_train_target)\n",
    "x_valid_target_scaled = scaler.transform(x_valid_target)\n",
    "\n",
    "# Normalize train_return\n",
    "scaler = MinMaxScaler()\n",
    "scaler.fit(x_train_return)\n",
    "x_train_return_scaled = scaler.transform(x_train_return)\n",
    "x_valid_return_scaled = scaler.transform(x_valid_return)\n",
    "\n",
    "# Normalize test\n",
    "scaler = MinMaxScaler()\n",
    "scaler.fit(x_test)\n",
    "x_test_scaled = scaler.transform(x_test)"
   ]
  },
  {
   "cell_type": "code",
   "execution_count": 730,
   "metadata": {},
   "outputs": [],
   "source": [
    "# Dealing with NAN value\n",
    "np.argwhere(np.isnan(x_train_return_scaled))\n",
    "x_train_return_scaled = np.nan_to_num(x_train_return_scaled)\n",
    "\n",
    "np.argwhere(np.isnan(x_valid_return_scaled))\n",
    "x_valid_return_scaled = np.nan_to_num(x_valid_return_scaled)\n",
    "\n",
    "np.argwhere(np.isnan(x_test_scaled))\n",
    "x_test_scaled = np.nan_to_num(x_test_scaled)"
   ]
  },
  {
   "cell_type": "code",
   "execution_count": 731,
   "metadata": {},
   "outputs": [
    {
     "name": "stdout",
     "output_type": "stream",
     "text": [
      "[0]\tvalidation_0-auc:0.840764\n",
      "Will train until validation_0-auc hasn't improved in 5 rounds.\n",
      "[1]\tvalidation_0-auc:0.867023\n",
      "[2]\tvalidation_0-auc:0.876627\n",
      "[3]\tvalidation_0-auc:0.877874\n",
      "[4]\tvalidation_0-auc:0.877972\n",
      "[5]\tvalidation_0-auc:0.879299\n",
      "[6]\tvalidation_0-auc:0.879304\n",
      "[7]\tvalidation_0-auc:0.880145\n",
      "[8]\tvalidation_0-auc:0.881351\n",
      "[9]\tvalidation_0-auc:0.883728\n",
      "[10]\tvalidation_0-auc:0.884225\n",
      "[11]\tvalidation_0-auc:0.884786\n",
      "[12]\tvalidation_0-auc:0.884822\n",
      "[13]\tvalidation_0-auc:0.884727\n",
      "[14]\tvalidation_0-auc:0.884264\n",
      "[15]\tvalidation_0-auc:0.884703\n",
      "[16]\tvalidation_0-auc:0.884399\n",
      "[17]\tvalidation_0-auc:0.884525\n",
      "Stopping. Best iteration:\n",
      "[12]\tvalidation_0-auc:0.884822\n",
      "\n"
     ]
    }
   ],
   "source": [
    "# XGboost classification\n",
    "clf = xgb.XGBClassifier(max_depth=10,\n",
    "                           min_child_weight=1,\n",
    "                           learning_rate=0.1,\n",
    "                           n_estimators=500,\n",
    "                           silent=True,\n",
    "                           objective='binary:logistic',\n",
    "                           gamma=0,\n",
    "                           max_delta_step=0,\n",
    "                           subsample=1,\n",
    "                           colsample_bytree=1,\n",
    "                           colsample_bylevel=1,\n",
    "                           reg_alpha=0,\n",
    "                           reg_lambda=0,\n",
    "                           scale_pos_weight=1,\n",
    "                           seed=1,\n",
    "                           missing=None)\n",
    "clf.fit(x_train_return_scaled, y_train_return, eval_metric='auc', verbose=True,\n",
    "            eval_set=[(x_valid_return_scaled, y_valid_return)], early_stopping_rounds=5)\n",
    "\n",
    "y_pred_valid_return = clf.predict(x_valid_return_scaled)"
   ]
  },
  {
   "cell_type": "code",
   "execution_count": 732,
   "metadata": {
    "scrolled": true
   },
   "outputs": [
    {
     "name": "stdout",
     "output_type": "stream",
     "text": [
      "              precision    recall  f1-score   support\n",
      "\n",
      "           0       0.99      1.00      1.00    464957\n",
      "           1       0.43      0.02      0.04      2843\n",
      "\n",
      "    accuracy                           0.99    467800\n",
      "   macro avg       0.71      0.51      0.52    467800\n",
      "weighted avg       0.99      0.99      0.99    467800\n",
      "\n"
     ]
    }
   ],
   "source": [
    "# CLassification Report\n",
    "print(classification_report(y_valid_return, y_pred_valid_return))"
   ]
  },
  {
   "cell_type": "code",
   "execution_count": 754,
   "metadata": {},
   "outputs": [],
   "source": [
    "# XGboost Regression\n",
    "xg_reg = xgb.XGBRegressor(learning_rate=0.1,max_depth=10)"
   ]
  },
  {
   "cell_type": "code",
   "execution_count": 755,
   "metadata": {},
   "outputs": [
    {
     "name": "stdout",
     "output_type": "stream",
     "text": [
      "[21:20:52] WARNING: C:/Jenkins/workspace/xgboost-win64_release_0.90/src/objective/regression_obj.cu:152: reg:linear is now deprecated in favor of reg:squarederror.\n"
     ]
    },
    {
     "data": {
      "text/plain": [
       "XGBRegressor(base_score=0.5, booster='gbtree', colsample_bylevel=1,\n",
       "             colsample_bynode=1, colsample_bytree=1, gamma=0,\n",
       "             importance_type='gain', learning_rate=0.1, max_delta_step=0,\n",
       "             max_depth=10, min_child_weight=1, missing=None, n_estimators=100,\n",
       "             n_jobs=1, nthread=None, objective='reg:linear', random_state=0,\n",
       "             reg_alpha=0, reg_lambda=1, scale_pos_weight=1, seed=None,\n",
       "             silent=None, subsample=1, verbosity=1)"
      ]
     },
     "execution_count": 755,
     "metadata": {},
     "output_type": "execute_result"
    }
   ],
   "source": [
    "# fit the model with the training data\n",
    "xg_reg.fit(x_train_target_scaled, y_train_target)"
   ]
  },
  {
   "cell_type": "code",
   "execution_count": 756,
   "metadata": {},
   "outputs": [
    {
     "name": "stdout",
     "output_type": "stream",
     "text": [
      "Its R-square of XGboost regression model is 0.9468226969141958\n",
      "Its RMSE of XGboost regression model is 4.407437111752069\n"
     ]
    }
   ],
   "source": [
    "# Calculating R-square\n",
    "print(\"Its R-square of XGboost regression model is\", xg_reg.score(x_train_target_scaled, y_train_target))\n",
    "\n",
    "# Calculating RMSE for regression\n",
    "y_pred_valid_target = xg_reg.predict(x_valid_target_scaled)\n",
    "print(\"Its RMSE of XGboost regression model is\",np.sqrt(mean_squared_error(y_pred_valid_target, y_valid_target)))"
   ]
  },
  {
   "cell_type": "code",
   "execution_count": 757,
   "metadata": {},
   "outputs": [],
   "source": [
    "y_pred = xg_reg.predict(x_test_scaled)"
   ]
  },
  {
   "cell_type": "code",
   "execution_count": 758,
   "metadata": {},
   "outputs": [
    {
     "data": {
      "text/plain": [
       "array([ 0.4664757 ,  4.687464  ,  0.06096366, ...,  0.00505006,\n",
       "        0.02956718, -0.2237975 ], dtype=float32)"
      ]
     },
     "execution_count": 758,
     "metadata": {},
     "output_type": "execute_result"
    }
   ],
   "source": [
    "y_pred"
   ]
  },
  {
   "cell_type": "code",
   "execution_count": 759,
   "metadata": {},
   "outputs": [],
   "source": [
    "df_test1 = pd.read_csv(r'C:\\Users\\ACER\\Desktop\\UMN\\Predictive Analysis\\FinalProject\\data\\test.csv',converters={'fullVisitorId': lambda x: str(x)})"
   ]
  },
  {
   "cell_type": "code",
   "execution_count": 760,
   "metadata": {},
   "outputs": [
    {
     "data": {
      "text/html": [
       "<div>\n",
       "<style scoped>\n",
       "    .dataframe tbody tr th:only-of-type {\n",
       "        vertical-align: middle;\n",
       "    }\n",
       "\n",
       "    .dataframe tbody tr th {\n",
       "        vertical-align: top;\n",
       "    }\n",
       "\n",
       "    .dataframe thead th {\n",
       "        text-align: right;\n",
       "    }\n",
       "</style>\n",
       "<table border=\"1\" class=\"dataframe\">\n",
       "  <thead>\n",
       "    <tr style=\"text-align: right;\">\n",
       "      <th></th>\n",
       "      <th>fullVisitorId</th>\n",
       "      <th>PredictedLogRevenue</th>\n",
       "    </tr>\n",
       "  </thead>\n",
       "  <tbody>\n",
       "    <tr>\n",
       "      <td>0</td>\n",
       "      <td>0000018966949534117</td>\n",
       "      <td>0.466476</td>\n",
       "    </tr>\n",
       "    <tr>\n",
       "      <td>1</td>\n",
       "      <td>0000039738481224681</td>\n",
       "      <td>4.687464</td>\n",
       "    </tr>\n",
       "    <tr>\n",
       "      <td>2</td>\n",
       "      <td>0000073585230191399</td>\n",
       "      <td>0.060964</td>\n",
       "    </tr>\n",
       "    <tr>\n",
       "      <td>3</td>\n",
       "      <td>0000087588448856385</td>\n",
       "      <td>-0.021676</td>\n",
       "    </tr>\n",
       "    <tr>\n",
       "      <td>4</td>\n",
       "      <td>0000149787903119437</td>\n",
       "      <td>0.437586</td>\n",
       "    </tr>\n",
       "    <tr>\n",
       "      <td>...</td>\n",
       "      <td>...</td>\n",
       "      <td>...</td>\n",
       "    </tr>\n",
       "    <tr>\n",
       "      <td>296525</td>\n",
       "      <td>9999862054614696520</td>\n",
       "      <td>1.720398</td>\n",
       "    </tr>\n",
       "    <tr>\n",
       "      <td>296526</td>\n",
       "      <td>9999898168621645223</td>\n",
       "      <td>-0.039090</td>\n",
       "    </tr>\n",
       "    <tr>\n",
       "      <td>296527</td>\n",
       "      <td>999990167740728398</td>\n",
       "      <td>0.005050</td>\n",
       "    </tr>\n",
       "    <tr>\n",
       "      <td>296528</td>\n",
       "      <td>9999915620249883537</td>\n",
       "      <td>0.029567</td>\n",
       "    </tr>\n",
       "    <tr>\n",
       "      <td>296529</td>\n",
       "      <td>9999947552481876143</td>\n",
       "      <td>-0.223798</td>\n",
       "    </tr>\n",
       "  </tbody>\n",
       "</table>\n",
       "<p>296530 rows × 2 columns</p>\n",
       "</div>"
      ],
      "text/plain": [
       "              fullVisitorId  PredictedLogRevenue\n",
       "0       0000018966949534117             0.466476\n",
       "1       0000039738481224681             4.687464\n",
       "2       0000073585230191399             0.060964\n",
       "3       0000087588448856385            -0.021676\n",
       "4       0000149787903119437             0.437586\n",
       "...                     ...                  ...\n",
       "296525  9999862054614696520             1.720398\n",
       "296526  9999898168621645223            -0.039090\n",
       "296527   999990167740728398             0.005050\n",
       "296528  9999915620249883537             0.029567\n",
       "296529  9999947552481876143            -0.223798\n",
       "\n",
       "[296530 rows x 2 columns]"
      ]
     },
     "execution_count": 760,
     "metadata": {},
     "output_type": "execute_result"
    }
   ],
   "source": [
    "data_xgboost = {'fullVisitorId': [i for i in df_test1.fullVisitorId], 'PredictedLogRevenue': [j for j in y_pred]}\n",
    "submission_xgboost = pd.DataFrame(data_xgboost)\n",
    "submission_xgboost"
   ]
  },
  {
   "cell_type": "code",
   "execution_count": 761,
   "metadata": {},
   "outputs": [],
   "source": [
    "submission_xgboost.to_csv(r'C:\\Users\\ACER\\Desktop\\UMN\\Predictive Analysis\\FinalProject\\data\\submission_xgboost.csv', index = False)"
   ]
  },
  {
   "cell_type": "code",
   "execution_count": 762,
   "metadata": {
    "scrolled": true
   },
   "outputs": [
    {
     "data": {
      "text/html": [
       "<div>\n",
       "<style scoped>\n",
       "    .dataframe tbody tr th:only-of-type {\n",
       "        vertical-align: middle;\n",
       "    }\n",
       "\n",
       "    .dataframe tbody tr th {\n",
       "        vertical-align: top;\n",
       "    }\n",
       "\n",
       "    .dataframe thead th {\n",
       "        text-align: right;\n",
       "    }\n",
       "</style>\n",
       "<table border=\"1\" class=\"dataframe\">\n",
       "  <thead>\n",
       "    <tr style=\"text-align: right;\">\n",
       "      <th></th>\n",
       "      <th>fullVisitorId</th>\n",
       "      <th>PredictedLogRevenue</th>\n",
       "    </tr>\n",
       "  </thead>\n",
       "  <tbody>\n",
       "    <tr>\n",
       "      <td>0</td>\n",
       "      <td>0000018966949534117</td>\n",
       "      <td>0.466476</td>\n",
       "    </tr>\n",
       "    <tr>\n",
       "      <td>1</td>\n",
       "      <td>0000039738481224681</td>\n",
       "      <td>4.687464</td>\n",
       "    </tr>\n",
       "    <tr>\n",
       "      <td>2</td>\n",
       "      <td>0000073585230191399</td>\n",
       "      <td>0.060964</td>\n",
       "    </tr>\n",
       "    <tr>\n",
       "      <td>3</td>\n",
       "      <td>0000087588448856385</td>\n",
       "      <td>-0.021676</td>\n",
       "    </tr>\n",
       "    <tr>\n",
       "      <td>4</td>\n",
       "      <td>0000149787903119437</td>\n",
       "      <td>0.437586</td>\n",
       "    </tr>\n",
       "    <tr>\n",
       "      <td>...</td>\n",
       "      <td>...</td>\n",
       "      <td>...</td>\n",
       "    </tr>\n",
       "    <tr>\n",
       "      <td>296525</td>\n",
       "      <td>9999862054614696520</td>\n",
       "      <td>1.720398</td>\n",
       "    </tr>\n",
       "    <tr>\n",
       "      <td>296526</td>\n",
       "      <td>9999898168621645223</td>\n",
       "      <td>-0.039090</td>\n",
       "    </tr>\n",
       "    <tr>\n",
       "      <td>296527</td>\n",
       "      <td>999990167740728398</td>\n",
       "      <td>0.005050</td>\n",
       "    </tr>\n",
       "    <tr>\n",
       "      <td>296528</td>\n",
       "      <td>9999915620249883537</td>\n",
       "      <td>0.029567</td>\n",
       "    </tr>\n",
       "    <tr>\n",
       "      <td>296529</td>\n",
       "      <td>9999947552481876143</td>\n",
       "      <td>-0.223798</td>\n",
       "    </tr>\n",
       "  </tbody>\n",
       "</table>\n",
       "<p>296530 rows × 2 columns</p>\n",
       "</div>"
      ],
      "text/plain": [
       "              fullVisitorId  PredictedLogRevenue\n",
       "0       0000018966949534117             0.466476\n",
       "1       0000039738481224681             4.687464\n",
       "2       0000073585230191399             0.060964\n",
       "3       0000087588448856385            -0.021676\n",
       "4       0000149787903119437             0.437586\n",
       "...                     ...                  ...\n",
       "296525  9999862054614696520             1.720398\n",
       "296526  9999898168621645223            -0.039090\n",
       "296527   999990167740728398             0.005050\n",
       "296528  9999915620249883537             0.029567\n",
       "296529  9999947552481876143            -0.223798\n",
       "\n",
       "[296530 rows x 2 columns]"
      ]
     },
     "execution_count": 762,
     "metadata": {},
     "output_type": "execute_result"
    }
   ],
   "source": [
    "submission_xgboost"
   ]
  },
  {
   "cell_type": "markdown",
   "metadata": {},
   "source": [
    "### Utilizing feature selection and executing XGboost model again"
   ]
  },
  {
   "cell_type": "code",
   "execution_count": 746,
   "metadata": {},
   "outputs": [],
   "source": [
    "#Feature Selection for classification\n",
    "feature_importances_xg_clf = pd.DataFrame(clf.feature_importances_,\n",
    "                                   index = x_train_target.columns,\n",
    "                                    columns=['importance']).sort_values('importance', ascending=False)"
   ]
  },
  {
   "cell_type": "code",
   "execution_count": 747,
   "metadata": {},
   "outputs": [
    {
     "data": {
      "text/html": [
       "<div>\n",
       "<style scoped>\n",
       "    .dataframe tbody tr th:only-of-type {\n",
       "        vertical-align: middle;\n",
       "    }\n",
       "\n",
       "    .dataframe tbody tr th {\n",
       "        vertical-align: top;\n",
       "    }\n",
       "\n",
       "    .dataframe thead th {\n",
       "        text-align: right;\n",
       "    }\n",
       "</style>\n",
       "<table border=\"1\" class=\"dataframe\">\n",
       "  <thead>\n",
       "    <tr style=\"text-align: right;\">\n",
       "      <th></th>\n",
       "      <th>importance</th>\n",
       "    </tr>\n",
       "  </thead>\n",
       "  <tbody>\n",
       "    <tr>\n",
       "      <td>maxVisitNum</td>\n",
       "      <td>0.188062</td>\n",
       "    </tr>\n",
       "    <tr>\n",
       "      <td>last_ses_from_the_period_end</td>\n",
       "      <td>0.110923</td>\n",
       "    </tr>\n",
       "    <tr>\n",
       "      <td>interval_dates</td>\n",
       "      <td>0.094427</td>\n",
       "    </tr>\n",
       "    <tr>\n",
       "      <td>session_cnt</td>\n",
       "      <td>0.044560</td>\n",
       "    </tr>\n",
       "    <tr>\n",
       "      <td>unique_date_num</td>\n",
       "      <td>0.039723</td>\n",
       "    </tr>\n",
       "    <tr>\n",
       "      <td>metro</td>\n",
       "      <td>0.031840</td>\n",
       "    </tr>\n",
       "    <tr>\n",
       "      <td>isMobile</td>\n",
       "      <td>0.031498</td>\n",
       "    </tr>\n",
       "    <tr>\n",
       "      <td>channelGrouping</td>\n",
       "      <td>0.030286</td>\n",
       "    </tr>\n",
       "    <tr>\n",
       "      <td>medium</td>\n",
       "      <td>0.029387</td>\n",
       "    </tr>\n",
       "    <tr>\n",
       "      <td>bounce_sessions</td>\n",
       "      <td>0.029100</td>\n",
       "    </tr>\n",
       "    <tr>\n",
       "      <td>hits_mean</td>\n",
       "      <td>0.027721</td>\n",
       "    </tr>\n",
       "    <tr>\n",
       "      <td>pageviews_mean</td>\n",
       "      <td>0.027500</td>\n",
       "    </tr>\n",
       "    <tr>\n",
       "      <td>hits_sum</td>\n",
       "      <td>0.026518</td>\n",
       "    </tr>\n",
       "    <tr>\n",
       "      <td>region</td>\n",
       "      <td>0.026465</td>\n",
       "    </tr>\n",
       "    <tr>\n",
       "      <td>pageviews_sum</td>\n",
       "      <td>0.025819</td>\n",
       "    </tr>\n",
       "    <tr>\n",
       "      <td>source</td>\n",
       "      <td>0.023397</td>\n",
       "    </tr>\n",
       "    <tr>\n",
       "      <td>transactionRevenue</td>\n",
       "      <td>0.023313</td>\n",
       "    </tr>\n",
       "    <tr>\n",
       "      <td>city</td>\n",
       "      <td>0.022876</td>\n",
       "    </tr>\n",
       "    <tr>\n",
       "      <td>first_ses_from_the_period_start</td>\n",
       "      <td>0.022041</td>\n",
       "    </tr>\n",
       "    <tr>\n",
       "      <td>networkDomain</td>\n",
       "      <td>0.020110</td>\n",
       "    </tr>\n",
       "    <tr>\n",
       "      <td>operatingSystem</td>\n",
       "      <td>0.019942</td>\n",
       "    </tr>\n",
       "    <tr>\n",
       "      <td>country</td>\n",
       "      <td>0.019692</td>\n",
       "    </tr>\n",
       "    <tr>\n",
       "      <td>transactions</td>\n",
       "      <td>0.019419</td>\n",
       "    </tr>\n",
       "    <tr>\n",
       "      <td>subContinent</td>\n",
       "      <td>0.018837</td>\n",
       "    </tr>\n",
       "    <tr>\n",
       "      <td>deviceCategory</td>\n",
       "      <td>0.018295</td>\n",
       "    </tr>\n",
       "    <tr>\n",
       "      <td>browser</td>\n",
       "      <td>0.015792</td>\n",
       "    </tr>\n",
       "    <tr>\n",
       "      <td>continent</td>\n",
       "      <td>0.012458</td>\n",
       "    </tr>\n",
       "  </tbody>\n",
       "</table>\n",
       "</div>"
      ],
      "text/plain": [
       "                                 importance\n",
       "maxVisitNum                        0.188062\n",
       "last_ses_from_the_period_end       0.110923\n",
       "interval_dates                     0.094427\n",
       "session_cnt                        0.044560\n",
       "unique_date_num                    0.039723\n",
       "metro                              0.031840\n",
       "isMobile                           0.031498\n",
       "channelGrouping                    0.030286\n",
       "medium                             0.029387\n",
       "bounce_sessions                    0.029100\n",
       "hits_mean                          0.027721\n",
       "pageviews_mean                     0.027500\n",
       "hits_sum                           0.026518\n",
       "region                             0.026465\n",
       "pageviews_sum                      0.025819\n",
       "source                             0.023397\n",
       "transactionRevenue                 0.023313\n",
       "city                               0.022876\n",
       "first_ses_from_the_period_start    0.022041\n",
       "networkDomain                      0.020110\n",
       "operatingSystem                    0.019942\n",
       "country                            0.019692\n",
       "transactions                       0.019419\n",
       "subContinent                       0.018837\n",
       "deviceCategory                     0.018295\n",
       "browser                            0.015792\n",
       "continent                          0.012458"
      ]
     },
     "execution_count": 747,
     "metadata": {},
     "output_type": "execute_result"
    }
   ],
   "source": [
    "feature_importances_xg_clf"
   ]
  },
  {
   "cell_type": "code",
   "execution_count": 748,
   "metadata": {},
   "outputs": [
    {
     "data": {
      "image/png": "[encoded data removed]",
      "text/plain": [
       "<Figure size 432x288 with 1 Axes>"
      ]
     },
     "metadata": {
      "needs_background": "light"
     },
     "output_type": "display_data"
    }
   ],
   "source": [
    "#plot graph of feature importances for better visualization\n",
    "import matplotlib.pyplot as plt\n",
    "feature_importances_xg_clf2 = pd.Series(clf.feature_importances_, index=x_train_target.columns)\n",
    "feature_importances_xg_clf2.nlargest(12).plot(kind='barh',color='c')\n",
    "plt.show()"
   ]
  },
  {
   "cell_type": "code",
   "execution_count": 749,
   "metadata": {},
   "outputs": [
    {
     "data": {
      "text/plain": [
       "['maxVisitNum',\n",
       " 'last_ses_from_the_period_end',\n",
       " 'interval_dates',\n",
       " 'session_cnt',\n",
       " 'unique_date_num']"
      ]
     },
     "execution_count": 749,
     "metadata": {},
     "output_type": "execute_result"
    }
   ],
   "source": [
    "# classification\n",
    "feature_importances_xg_clf[feature_importances_xg_clf['importance']>= 0.035].index.tolist()"
   ]
  },
  {
   "cell_type": "code",
   "execution_count": 767,
   "metadata": {},
   "outputs": [],
   "source": [
    "#Feature Selection for regression\n",
    "feature_importances_xg_reg = pd.DataFrame(xg_reg.feature_importances_,\n",
    "                                   index = x_train_target.columns,\n",
    "                                    columns=['importance']).sort_values('importance', ascending=False)"
   ]
  },
  {
   "cell_type": "code",
   "execution_count": 764,
   "metadata": {},
   "outputs": [
    {
     "data": {
      "text/html": [
       "<div>\n",
       "<style scoped>\n",
       "    .dataframe tbody tr th:only-of-type {\n",
       "        vertical-align: middle;\n",
       "    }\n",
       "\n",
       "    .dataframe tbody tr th {\n",
       "        vertical-align: top;\n",
       "    }\n",
       "\n",
       "    .dataframe thead th {\n",
       "        text-align: right;\n",
       "    }\n",
       "</style>\n",
       "<table border=\"1\" class=\"dataframe\">\n",
       "  <thead>\n",
       "    <tr style=\"text-align: right;\">\n",
       "      <th></th>\n",
       "      <th>importance</th>\n",
       "    </tr>\n",
       "  </thead>\n",
       "  <tbody>\n",
       "    <tr>\n",
       "      <td>transactionRevenue</td>\n",
       "      <td>0.253437</td>\n",
       "    </tr>\n",
       "    <tr>\n",
       "      <td>isMobile</td>\n",
       "      <td>0.085102</td>\n",
       "    </tr>\n",
       "    <tr>\n",
       "      <td>transactions</td>\n",
       "      <td>0.042302</td>\n",
       "    </tr>\n",
       "    <tr>\n",
       "      <td>operatingSystem</td>\n",
       "      <td>0.037384</td>\n",
       "    </tr>\n",
       "    <tr>\n",
       "      <td>hits_mean</td>\n",
       "      <td>0.037252</td>\n",
       "    </tr>\n",
       "    <tr>\n",
       "      <td>pageviews_mean</td>\n",
       "      <td>0.037240</td>\n",
       "    </tr>\n",
       "    <tr>\n",
       "      <td>pageviews_sum</td>\n",
       "      <td>0.036746</td>\n",
       "    </tr>\n",
       "    <tr>\n",
       "      <td>interval_dates</td>\n",
       "      <td>0.036145</td>\n",
       "    </tr>\n",
       "    <tr>\n",
       "      <td>hits_sum</td>\n",
       "      <td>0.035135</td>\n",
       "    </tr>\n",
       "    <tr>\n",
       "      <td>city</td>\n",
       "      <td>0.034437</td>\n",
       "    </tr>\n",
       "    <tr>\n",
       "      <td>session_cnt</td>\n",
       "      <td>0.032452</td>\n",
       "    </tr>\n",
       "    <tr>\n",
       "      <td>last_ses_from_the_period_end</td>\n",
       "      <td>0.031687</td>\n",
       "    </tr>\n",
       "    <tr>\n",
       "      <td>bounce_sessions</td>\n",
       "      <td>0.031650</td>\n",
       "    </tr>\n",
       "    <tr>\n",
       "      <td>metro</td>\n",
       "      <td>0.029143</td>\n",
       "    </tr>\n",
       "    <tr>\n",
       "      <td>region</td>\n",
       "      <td>0.026959</td>\n",
       "    </tr>\n",
       "    <tr>\n",
       "      <td>medium</td>\n",
       "      <td>0.026599</td>\n",
       "    </tr>\n",
       "    <tr>\n",
       "      <td>first_ses_from_the_period_start</td>\n",
       "      <td>0.025814</td>\n",
       "    </tr>\n",
       "    <tr>\n",
       "      <td>source</td>\n",
       "      <td>0.024834</td>\n",
       "    </tr>\n",
       "    <tr>\n",
       "      <td>unique_date_num</td>\n",
       "      <td>0.024397</td>\n",
       "    </tr>\n",
       "    <tr>\n",
       "      <td>maxVisitNum</td>\n",
       "      <td>0.023539</td>\n",
       "    </tr>\n",
       "    <tr>\n",
       "      <td>networkDomain</td>\n",
       "      <td>0.023277</td>\n",
       "    </tr>\n",
       "    <tr>\n",
       "      <td>country</td>\n",
       "      <td>0.019102</td>\n",
       "    </tr>\n",
       "    <tr>\n",
       "      <td>channelGrouping</td>\n",
       "      <td>0.014901</td>\n",
       "    </tr>\n",
       "    <tr>\n",
       "      <td>browser</td>\n",
       "      <td>0.011254</td>\n",
       "    </tr>\n",
       "    <tr>\n",
       "      <td>continent</td>\n",
       "      <td>0.009093</td>\n",
       "    </tr>\n",
       "    <tr>\n",
       "      <td>deviceCategory</td>\n",
       "      <td>0.006758</td>\n",
       "    </tr>\n",
       "    <tr>\n",
       "      <td>subContinent</td>\n",
       "      <td>0.003363</td>\n",
       "    </tr>\n",
       "  </tbody>\n",
       "</table>\n",
       "</div>"
      ],
      "text/plain": [
       "                                 importance\n",
       "transactionRevenue                 0.253437\n",
       "isMobile                           0.085102\n",
       "transactions                       0.042302\n",
       "operatingSystem                    0.037384\n",
       "hits_mean                          0.037252\n",
       "pageviews_mean                     0.037240\n",
       "pageviews_sum                      0.036746\n",
       "interval_dates                     0.036145\n",
       "hits_sum                           0.035135\n",
       "city                               0.034437\n",
       "session_cnt                        0.032452\n",
       "last_ses_from_the_period_end       0.031687\n",
       "bounce_sessions                    0.031650\n",
       "metro                              0.029143\n",
       "region                             0.026959\n",
       "medium                             0.026599\n",
       "first_ses_from_the_period_start    0.025814\n",
       "source                             0.024834\n",
       "unique_date_num                    0.024397\n",
       "maxVisitNum                        0.023539\n",
       "networkDomain                      0.023277\n",
       "country                            0.019102\n",
       "channelGrouping                    0.014901\n",
       "browser                            0.011254\n",
       "continent                          0.009093\n",
       "deviceCategory                     0.006758\n",
       "subContinent                       0.003363"
      ]
     },
     "execution_count": 764,
     "metadata": {},
     "output_type": "execute_result"
    }
   ],
   "source": [
    "feature_importances_xg_reg"
   ]
  },
  {
   "cell_type": "code",
   "execution_count": 765,
   "metadata": {},
   "outputs": [
    {
     "data": {
      "image/png": "[encoded data removed]",
      "text/plain": [
       "<Figure size 432x288 with 1 Axes>"
      ]
     },
     "metadata": {
      "needs_background": "light"
     },
     "output_type": "display_data"
    }
   ],
   "source": [
    "#plot graph of feature importances for better visualization\n",
    "import matplotlib.pyplot as plt\n",
    "feature_importances_xg_reg = pd.Series(xg_reg.feature_importances_, index=x_train_target.columns)\n",
    "feature_importances_xg_reg.nlargest(12).plot(kind='barh',color='c')\n",
    "plt.show()"
   ]
  },
  {
   "cell_type": "code",
   "execution_count": 768,
   "metadata": {
    "scrolled": true
   },
   "outputs": [
    {
     "data": {
      "text/plain": [
       "['transactionRevenue',\n",
       " 'isMobile',\n",
       " 'transactions',\n",
       " 'operatingSystem',\n",
       " 'hits_mean',\n",
       " 'pageviews_mean',\n",
       " 'pageviews_sum',\n",
       " 'interval_dates',\n",
       " 'hits_sum']"
      ]
     },
     "execution_count": 768,
     "metadata": {},
     "output_type": "execute_result"
    }
   ],
   "source": [
    "# regression\n",
    "feature_importances_xg_reg[feature_importances_xg_reg['importance']>= 0.035].index.tolist()"
   ]
  },
  {
   "cell_type": "code",
   "execution_count": 769,
   "metadata": {},
   "outputs": [],
   "source": [
    "# Split train and validation data\n",
    "# for target variable = return\n",
    "x_train_return, x_valid_return, y_train_return, y_valid_return = train_test_split(x_train_return, y_train_return, test_size=0.33)\n",
    "\n",
    "# for target variable = target\n",
    "x_train_target, x_valid_target, y_train_target, y_valid_target = train_test_split(x_train_target, y_train_target, test_size=0.33)"
   ]
  },
  {
   "cell_type": "code",
   "execution_count": 770,
   "metadata": {},
   "outputs": [],
   "source": [
    "# Select important features for classification\n",
    "x_train_return = x_train_return[['maxVisitNum',\n",
    "                                 'last_ses_from_the_period_end',\n",
    "                                 'interval_dates',\n",
    "                                 'session_cnt',\n",
    "                                 'unique_date_num']]\n",
    "x_valid_return = x_valid_return[['maxVisitNum',\n",
    "                                 'last_ses_from_the_period_end',\n",
    "                                 'interval_dates',\n",
    "                                 'session_cnt',\n",
    "                                 'unique_date_num']]\n",
    "x_test_return = x_test[['maxVisitNum',\n",
    "                                 'last_ses_from_the_period_end',\n",
    "                                 'interval_dates',\n",
    "                                 'session_cnt',\n",
    "                                 'unique_date_num']]\n",
    "# Select important features for regression\n",
    "x_train_target = x_train_target[['transactionRevenue',\n",
    "                                 'isMobile',\n",
    "                                 'transactions',\n",
    "                                 'operatingSystem',\n",
    "                                 'hits_mean',\n",
    "                                 'pageviews_mean',\n",
    "                                 'pageviews_sum',\n",
    "                                 'interval_dates',\n",
    "                                 'hits_sum']]\n",
    "x_valid_target = x_valid_target[['transactionRevenue',\n",
    "                                 'isMobile',\n",
    "                                 'transactions',\n",
    "                                 'operatingSystem',\n",
    "                                 'hits_mean',\n",
    "                                 'pageviews_mean',\n",
    "                                 'pageviews_sum',\n",
    "                                 'interval_dates',\n",
    "                                 'hits_sum']]\n",
    "\n",
    "x_test_target = x_test[['transactionRevenue',\n",
    "                                 'isMobile',\n",
    "                                 'transactions',\n",
    "                                 'operatingSystem',\n",
    "                                 'hits_mean',\n",
    "                                 'pageviews_mean',\n",
    "                                 'pageviews_sum',\n",
    "                                 'interval_dates',\n",
    "                                 'hits_sum']]"
   ]
  },
  {
   "cell_type": "code",
   "execution_count": 771,
   "metadata": {},
   "outputs": [],
   "source": [
    "# Normalized training & testing dataset\n",
    "\n",
    "# Normalize train_target\n",
    "from sklearn.preprocessing import MinMaxScaler\n",
    "scaler = MinMaxScaler()\n",
    "scaler.fit(x_train_target)\n",
    "x_train_target_scaled = scaler.transform(x_train_target)\n",
    "x_valid_target_scaled = scaler.transform(x_valid_target)\n",
    "\n",
    "# Normalize train_return\n",
    "scaler = MinMaxScaler()\n",
    "scaler.fit(x_train_return)\n",
    "x_train_return_scaled = scaler.transform(x_train_return)\n",
    "x_valid_return_scaled = scaler.transform(x_valid_return)\n",
    "\n",
    "# Normalize test\n",
    "scaler = MinMaxScaler()\n",
    "scaler.fit(x_test_target)\n",
    "x_test_target_scaled = scaler.transform(x_test_target)\n",
    "scaler.fit(x_test_return)\n",
    "x_test_return_scaled = scaler.transform(x_test_return)"
   ]
  },
  {
   "cell_type": "code",
   "execution_count": 772,
   "metadata": {},
   "outputs": [],
   "source": [
    "# Dealing with NAN value\n",
    "np.argwhere(np.isnan(x_train_return_scaled))\n",
    "x_train_return_scaled = np.nan_to_num(x_train_return_scaled)\n",
    "\n",
    "np.argwhere(np.isnan(x_valid_return_scaled))\n",
    "x_valid_return_scaled = np.nan_to_num(x_valid_return_scaled)\n",
    "\n",
    "np.argwhere(np.isnan(x_test_scaled))\n",
    "x_test_return_scaled = np.nan_to_num(x_test_return_scaled)\n",
    "x_test_target_scaled = np.nan_to_num(x_test_target_scaled)"
   ]
  },
  {
   "cell_type": "code",
   "execution_count": 773,
   "metadata": {},
   "outputs": [
    {
     "name": "stdout",
     "output_type": "stream",
     "text": [
      "[0]\tvalidation_0-auc:0.790371\n",
      "Will train until validation_0-auc hasn't improved in 5 rounds.\n",
      "[1]\tvalidation_0-auc:0.811361\n",
      "[2]\tvalidation_0-auc:0.820967\n",
      "[3]\tvalidation_0-auc:0.823629\n",
      "[4]\tvalidation_0-auc:0.823931\n",
      "[5]\tvalidation_0-auc:0.824745\n",
      "[6]\tvalidation_0-auc:0.825439\n",
      "[7]\tvalidation_0-auc:0.82547\n",
      "[8]\tvalidation_0-auc:0.826124\n",
      "[9]\tvalidation_0-auc:0.827535\n",
      "[10]\tvalidation_0-auc:0.829742\n",
      "[11]\tvalidation_0-auc:0.830777\n",
      "[12]\tvalidation_0-auc:0.831048\n",
      "[13]\tvalidation_0-auc:0.830361\n",
      "[14]\tvalidation_0-auc:0.831438\n",
      "[15]\tvalidation_0-auc:0.831822\n",
      "[16]\tvalidation_0-auc:0.832153\n",
      "[17]\tvalidation_0-auc:0.832076\n",
      "[18]\tvalidation_0-auc:0.832266\n",
      "[19]\tvalidation_0-auc:0.831917\n",
      "[20]\tvalidation_0-auc:0.83158\n",
      "[21]\tvalidation_0-auc:0.831914\n",
      "[22]\tvalidation_0-auc:0.831441\n",
      "[23]\tvalidation_0-auc:0.831114\n",
      "Stopping. Best iteration:\n",
      "[18]\tvalidation_0-auc:0.832266\n",
      "\n"
     ]
    }
   ],
   "source": [
    "# XGboost classification\n",
    "clf = xgb.XGBClassifier(max_depth=10,\n",
    "                           min_child_weight=1,\n",
    "                           learning_rate=0.1,\n",
    "                           n_estimators=500,\n",
    "                           silent=True,\n",
    "                           objective='binary:logistic',\n",
    "                           gamma=0,\n",
    "                           max_delta_step=0,\n",
    "                           subsample=1,\n",
    "                           colsample_bytree=1,\n",
    "                           colsample_bylevel=1,\n",
    "                           reg_alpha=0,\n",
    "                           reg_lambda=0,\n",
    "                           scale_pos_weight=1,\n",
    "                           seed=1,\n",
    "                           missing=None)\n",
    "clf.fit(x_train_return_scaled, y_train_return, eval_metric='auc', verbose=True,\n",
    "            eval_set=[(x_valid_return_scaled, y_valid_return)], early_stopping_rounds=5)\n",
    "\n",
    "y_pred_valid_return = clf.predict(x_valid_return_scaled)"
   ]
  },
  {
   "cell_type": "code",
   "execution_count": 774,
   "metadata": {
    "scrolled": true
   },
   "outputs": [
    {
     "name": "stdout",
     "output_type": "stream",
     "text": [
      "              precision    recall  f1-score   support\n",
      "\n",
      "           0       0.99      1.00      1.00    311474\n",
      "           1       0.36      0.02      0.04      1952\n",
      "\n",
      "    accuracy                           0.99    313426\n",
      "   macro avg       0.68      0.51      0.52    313426\n",
      "weighted avg       0.99      0.99      0.99    313426\n",
      "\n"
     ]
    }
   ],
   "source": [
    "# CLassification Report\n",
    "print(classification_report(y_valid_return, y_pred_valid_return))"
   ]
  },
  {
   "cell_type": "code",
   "execution_count": 775,
   "metadata": {
    "scrolled": true
   },
   "outputs": [
    {
     "name": "stdout",
     "output_type": "stream",
     "text": [
      "Fitting 3 folds for each of 10 candidates, totalling 30 fits\n",
      "[CV] n_estimators =50, max_depth=8, learning_rate=0.1 ................\n",
      "[21:26:34] WARNING: C:/Jenkins/workspace/xgboost-win64_release_0.90/src/objective/regression_obj.cu:152: reg:linear is now deprecated in favor of reg:squarederror.\n"
     ]
    },
    {
     "name": "stderr",
     "output_type": "stream",
     "text": [
      "[Parallel(n_jobs=1)]: Using backend SequentialBackend with 1 concurrent workers.\n"
     ]
    },
    {
     "name": "stdout",
     "output_type": "stream",
     "text": [
      "[CV] . n_estimators =50, max_depth=8, learning_rate=0.1, total=   0.9s\n",
      "[CV] n_estimators =50, max_depth=8, learning_rate=0.1 ................\n",
      "[21:26:35] WARNING: C:/Jenkins/workspace/xgboost-win64_release_0.90/src/objective/regression_obj.cu:152: reg:linear is now deprecated in favor of reg:squarederror.\n"
     ]
    },
    {
     "name": "stderr",
     "output_type": "stream",
     "text": [
      "[Parallel(n_jobs=1)]: Done   1 out of   1 | elapsed:    0.8s remaining:    0.0s\n"
     ]
    },
    {
     "name": "stdout",
     "output_type": "stream",
     "text": [
      "[CV] . n_estimators =50, max_depth=8, learning_rate=0.1, total=   0.4s\n",
      "[CV] n_estimators =50, max_depth=8, learning_rate=0.1 ................\n",
      "[21:26:35] WARNING: C:/Jenkins/workspace/xgboost-win64_release_0.90/src/objective/regression_obj.cu:152: reg:linear is now deprecated in favor of reg:squarederror.\n",
      "[CV] . n_estimators =50, max_depth=8, learning_rate=0.1, total=   0.3s\n",
      "[CV] n_estimators =100, max_depth=12, learning_rate=0.1 ..............\n",
      "[21:26:36] WARNING: C:/Jenkins/workspace/xgboost-win64_release_0.90/src/objective/regression_obj.cu:152: reg:linear is now deprecated in favor of reg:squarederror.\n",
      "[CV]  n_estimators =100, max_depth=12, learning_rate=0.1, total=   0.5s\n",
      "[CV] n_estimators =100, max_depth=12, learning_rate=0.1 ..............\n",
      "[21:26:36] WARNING: C:/Jenkins/workspace/xgboost-win64_release_0.90/src/objective/regression_obj.cu:152: reg:linear is now deprecated in favor of reg:squarederror.\n",
      "[CV]  n_estimators =100, max_depth=12, learning_rate=0.1, total=   0.6s\n",
      "[CV] n_estimators =100, max_depth=12, learning_rate=0.1 ..............\n",
      "[21:26:37] WARNING: C:/Jenkins/workspace/xgboost-win64_release_0.90/src/objective/regression_obj.cu:152: reg:linear is now deprecated in favor of reg:squarederror.\n",
      "[CV]  n_estimators =100, max_depth=12, learning_rate=0.1, total=   0.5s\n",
      "[CV] n_estimators =150, max_depth=4, learning_rate=0.5 ...............\n",
      "[21:26:37] WARNING: C:/Jenkins/workspace/xgboost-win64_release_0.90/src/objective/regression_obj.cu:152: reg:linear is now deprecated in favor of reg:squarederror.\n",
      "[CV]  n_estimators =150, max_depth=4, learning_rate=0.5, total=   0.2s\n",
      "[CV] n_estimators =150, max_depth=4, learning_rate=0.5 ...............\n",
      "[21:26:37] WARNING: C:/Jenkins/workspace/xgboost-win64_release_0.90/src/objective/regression_obj.cu:152: reg:linear is now deprecated in favor of reg:squarederror.\n",
      "[CV]  n_estimators =150, max_depth=4, learning_rate=0.5, total=   0.2s\n",
      "[CV] n_estimators =150, max_depth=4, learning_rate=0.5 ...............\n",
      "[21:26:38] WARNING: C:/Jenkins/workspace/xgboost-win64_release_0.90/src/objective/regression_obj.cu:152: reg:linear is now deprecated in favor of reg:squarederror.\n",
      "[CV]  n_estimators =150, max_depth=4, learning_rate=0.5, total=   0.2s\n",
      "[CV] n_estimators =100, max_depth=0, learning_rate=1 .................\n",
      "[21:26:38] WARNING: C:/Jenkins/workspace/xgboost-win64_release_0.90/src/objective/regression_obj.cu:152: reg:linear is now deprecated in favor of reg:squarederror.\n",
      "[CV] .. n_estimators =100, max_depth=0, learning_rate=1, total=   0.1s\n",
      "[CV] n_estimators =100, max_depth=0, learning_rate=1 .................\n",
      "[21:26:38] WARNING: C:/Jenkins/workspace/xgboost-win64_release_0.90/src/objective/regression_obj.cu:152: reg:linear is now deprecated in favor of reg:squarederror.\n",
      "[CV] .. n_estimators =100, max_depth=0, learning_rate=1, total=   0.1s\n",
      "[CV] n_estimators =100, max_depth=0, learning_rate=1 .................\n",
      "[21:26:38] WARNING: C:/Jenkins/workspace/xgboost-win64_release_0.90/src/objective/regression_obj.cu:152: reg:linear is now deprecated in favor of reg:squarederror.\n",
      "[CV] .. n_estimators =100, max_depth=0, learning_rate=1, total=   0.1s\n",
      "[CV] n_estimators =150, max_depth=9, learning_rate=0.5 ...............\n",
      "[21:26:38] WARNING: C:/Jenkins/workspace/xgboost-win64_release_0.90/src/objective/regression_obj.cu:152: reg:linear is now deprecated in favor of reg:squarederror.\n",
      "[CV]  n_estimators =150, max_depth=9, learning_rate=0.5, total=   0.4s\n",
      "[CV] n_estimators =150, max_depth=9, learning_rate=0.5 ...............\n",
      "[21:26:38] WARNING: C:/Jenkins/workspace/xgboost-win64_release_0.90/src/objective/regression_obj.cu:152: reg:linear is now deprecated in favor of reg:squarederror.\n",
      "[CV]  n_estimators =150, max_depth=9, learning_rate=0.5, total=   0.4s\n",
      "[CV] n_estimators =150, max_depth=9, learning_rate=0.5 ...............\n",
      "[21:26:39] WARNING: C:/Jenkins/workspace/xgboost-win64_release_0.90/src/objective/regression_obj.cu:152: reg:linear is now deprecated in favor of reg:squarederror.\n",
      "[CV]  n_estimators =150, max_depth=9, learning_rate=0.5, total=   0.4s\n",
      "[CV] n_estimators =150, max_depth=8, learning_rate=0.1 ...............\n",
      "[21:26:39] WARNING: C:/Jenkins/workspace/xgboost-win64_release_0.90/src/objective/regression_obj.cu:152: reg:linear is now deprecated in favor of reg:squarederror.\n",
      "[CV]  n_estimators =150, max_depth=8, learning_rate=0.1, total=   0.3s\n",
      "[CV] n_estimators =150, max_depth=8, learning_rate=0.1 ...............\n",
      "[21:26:40] WARNING: C:/Jenkins/workspace/xgboost-win64_release_0.90/src/objective/regression_obj.cu:152: reg:linear is now deprecated in favor of reg:squarederror.\n",
      "[CV]  n_estimators =150, max_depth=8, learning_rate=0.1, total=   0.4s\n",
      "[CV] n_estimators =150, max_depth=8, learning_rate=0.1 ...............\n",
      "[21:26:40] WARNING: C:/Jenkins/workspace/xgboost-win64_release_0.90/src/objective/regression_obj.cu:152: reg:linear is now deprecated in favor of reg:squarederror.\n",
      "[CV]  n_estimators =150, max_depth=8, learning_rate=0.1, total=   0.3s\n",
      "[CV] n_estimators =50, max_depth=6, learning_rate=0.01 ...............\n",
      "[21:26:40] WARNING: C:/Jenkins/workspace/xgboost-win64_release_0.90/src/objective/regression_obj.cu:152: reg:linear is now deprecated in favor of reg:squarederror.\n",
      "[CV]  n_estimators =50, max_depth=6, learning_rate=0.01, total=   0.3s\n",
      "[CV] n_estimators =50, max_depth=6, learning_rate=0.01 ...............\n",
      "[21:26:41] WARNING: C:/Jenkins/workspace/xgboost-win64_release_0.90/src/objective/regression_obj.cu:152: reg:linear is now deprecated in favor of reg:squarederror.\n",
      "[CV]  n_estimators =50, max_depth=6, learning_rate=0.01, total=   0.3s\n",
      "[CV] n_estimators =50, max_depth=6, learning_rate=0.01 ...............\n",
      "[21:26:41] WARNING: C:/Jenkins/workspace/xgboost-win64_release_0.90/src/objective/regression_obj.cu:152: reg:linear is now deprecated in favor of reg:squarederror.\n",
      "[CV]  n_estimators =50, max_depth=6, learning_rate=0.01, total=   0.3s\n",
      "[CV] n_estimators =50, max_depth=4, learning_rate=0.5 ................\n",
      "[21:26:41] WARNING: C:/Jenkins/workspace/xgboost-win64_release_0.90/src/objective/regression_obj.cu:152: reg:linear is now deprecated in favor of reg:squarederror.\n",
      "[CV] . n_estimators =50, max_depth=4, learning_rate=0.5, total=   0.2s\n",
      "[CV] n_estimators =50, max_depth=4, learning_rate=0.5 ................\n",
      "[21:26:41] WARNING: C:/Jenkins/workspace/xgboost-win64_release_0.90/src/objective/regression_obj.cu:152: reg:linear is now deprecated in favor of reg:squarederror.\n",
      "[CV] . n_estimators =50, max_depth=4, learning_rate=0.5, total=   0.2s\n",
      "[CV] n_estimators =50, max_depth=4, learning_rate=0.5 ................\n",
      "[21:26:41] WARNING: C:/Jenkins/workspace/xgboost-win64_release_0.90/src/objective/regression_obj.cu:152: reg:linear is now deprecated in favor of reg:squarederror.\n",
      "[CV] . n_estimators =50, max_depth=4, learning_rate=0.5, total=   0.2s\n",
      "[CV] n_estimators =100, max_depth=0, learning_rate=0.5 ...............\n",
      "[21:26:42] WARNING: C:/Jenkins/workspace/xgboost-win64_release_0.90/src/objective/regression_obj.cu:152: reg:linear is now deprecated in favor of reg:squarederror.\n",
      "[CV]  n_estimators =100, max_depth=0, learning_rate=0.5, total=   0.1s\n",
      "[CV] n_estimators =100, max_depth=0, learning_rate=0.5 ...............\n",
      "[21:26:42] WARNING: C:/Jenkins/workspace/xgboost-win64_release_0.90/src/objective/regression_obj.cu:152: reg:linear is now deprecated in favor of reg:squarederror.\n",
      "[CV]  n_estimators =100, max_depth=0, learning_rate=0.5, total=   0.1s\n",
      "[CV] n_estimators =100, max_depth=0, learning_rate=0.5 ...............\n",
      "[21:26:42] WARNING: C:/Jenkins/workspace/xgboost-win64_release_0.90/src/objective/regression_obj.cu:152: reg:linear is now deprecated in favor of reg:squarederror.\n",
      "[CV]  n_estimators =100, max_depth=0, learning_rate=0.5, total=   0.1s\n",
      "[CV] n_estimators =150, max_depth=2, learning_rate=0.01 ..............\n",
      "[21:26:42] WARNING: C:/Jenkins/workspace/xgboost-win64_release_0.90/src/objective/regression_obj.cu:152: reg:linear is now deprecated in favor of reg:squarederror.\n",
      "[CV]  n_estimators =150, max_depth=2, learning_rate=0.01, total=   0.1s\n",
      "[CV] n_estimators =150, max_depth=2, learning_rate=0.01 ..............\n",
      "[21:26:42] WARNING: C:/Jenkins/workspace/xgboost-win64_release_0.90/src/objective/regression_obj.cu:152: reg:linear is now deprecated in favor of reg:squarederror.\n"
     ]
    },
    {
     "name": "stdout",
     "output_type": "stream",
     "text": [
      "[CV]  n_estimators =150, max_depth=2, learning_rate=0.01, total=   0.1s\n",
      "[CV] n_estimators =150, max_depth=2, learning_rate=0.01 ..............\n",
      "[21:26:42] WARNING: C:/Jenkins/workspace/xgboost-win64_release_0.90/src/objective/regression_obj.cu:152: reg:linear is now deprecated in favor of reg:squarederror.\n",
      "[CV]  n_estimators =150, max_depth=2, learning_rate=0.01, total=   0.1s\n",
      "[21:26:42] WARNING: C:/Jenkins/workspace/xgboost-win64_release_0.90/src/objective/regression_obj.cu:152: reg:linear is now deprecated in favor of reg:squarederror.\n"
     ]
    },
    {
     "name": "stderr",
     "output_type": "stream",
     "text": [
      "[Parallel(n_jobs=1)]: Done  30 out of  30 | elapsed:    8.2s finished\n"
     ]
    },
    {
     "data": {
      "text/plain": [
       "RandomizedSearchCV(cv=3, error_score='raise-deprecating',\n",
       "                   estimator=XGBRegressor(base_score=0.5, booster='gbtree',\n",
       "                                          colsample_bylevel=1,\n",
       "                                          colsample_bynode=1,\n",
       "                                          colsample_bytree=1, gamma=0,\n",
       "                                          importance_type='gain',\n",
       "                                          learning_rate=0.1, max_delta_step=0,\n",
       "                                          max_depth=3, min_child_weight=1,\n",
       "                                          missing=None, n_estimators=100,\n",
       "                                          n_jobs=1, nthread=None,\n",
       "                                          objective='reg:linear',\n",
       "                                          random_state=0, reg_alpha=0,\n",
       "                                          reg_lambda=1, scale_pos_weight=1,\n",
       "                                          seed=None, silent=None, subsample=1,\n",
       "                                          verbosity=1),\n",
       "                   iid='warn', n_iter=10, n_jobs=None,\n",
       "                   param_distributions={'learning_rate': [0.01, 0.1, 0.5, 1],\n",
       "                                        'max_depth': range(0, 15),\n",
       "                                        'n_estimators ': [50, 100, 150]},\n",
       "                   pre_dispatch='2*n_jobs', random_state=None, refit=True,\n",
       "                   return_train_score=False, scoring=None, verbose=2)"
      ]
     },
     "execution_count": 775,
     "metadata": {},
     "output_type": "execute_result"
    }
   ],
   "source": [
    "from sklearn.metrics import accuracy_score, confusion_matrix, matthews_corrcoef,classification_report,roc_curve, auc, mean_squared_error, make_scorer, f1_score\n",
    "from math import sqrt\n",
    "from sklearn.model_selection import cross_val_score, train_test_split, KFold, GridSearchCV, RandomizedSearchCV\n",
    "\n",
    "xgb_estimator = xgb.XGBRegressor()\n",
    "\n",
    "param_grid = {'max_depth': range(15), \n",
    "              'n_estimators ':[50,100,150],\n",
    "              'learning_rate': [0.01, 0.1,0.5,1]}\n",
    "xgb_new = RandomizedSearchCV(xgb_estimator, param_distributions = param_grid, cv=3, verbose = 2)\n",
    "xgb_new.fit(x_train_target_scaled, y_train_target)"
   ]
  },
  {
   "cell_type": "code",
   "execution_count": 776,
   "metadata": {},
   "outputs": [
    {
     "name": "stdout",
     "output_type": "stream",
     "text": [
      "Best parameters found by grid search are: {'n_estimators ': 150, 'max_depth': 2, 'learning_rate': 0.01}\n"
     ]
    }
   ],
   "source": [
    "xgb_best = xgb_new.best_params_\n",
    "print('Best parameters found by grid search are:', xgb_best)"
   ]
  },
  {
   "cell_type": "code",
   "execution_count": 777,
   "metadata": {},
   "outputs": [
    {
     "name": "stdout",
     "output_type": "stream",
     "text": [
      "[21:27:01] WARNING: C:/Jenkins/workspace/xgboost-win64_release_0.90/src/objective/regression_obj.cu:152: reg:linear is now deprecated in favor of reg:squarederror.\n",
      "Its R-square of XGboost model is 0.12087742759953268\n",
      "Its RMSE of XGboost model is 4.134724483858594\n"
     ]
    }
   ],
   "source": [
    "xgb_best = xgb.XGBRegressor(n_estimators = 150, max_depth = 2, learning_rate = 0.01)\n",
    "xgb_best.fit(x_train_target_scaled, y_train_target)\n",
    "# Calculating R-square\n",
    "print(\"Its R-square of XGboost model is\", xgb_best.score(x_train_target_scaled, y_train_target))\n",
    "\n",
    "# Calculating RMSE for regression\n",
    "y_pred_valid_target = xgb_best.predict(x_valid_target_scaled)\n",
    "print(\"Its RMSE of XGboost model is\",np.sqrt(mean_squared_error(y_pred_valid_target, y_valid_target)))"
   ]
  },
  {
   "cell_type": "code",
   "execution_count": 778,
   "metadata": {},
   "outputs": [],
   "source": [
    "y_pred_new = xgb_best.predict(x_test_target_scaled)"
   ]
  },
  {
   "cell_type": "code",
   "execution_count": 779,
   "metadata": {},
   "outputs": [
    {
     "data": {
      "text/plain": [
       "array([0.68039453, 0.49469256, 0.38342154, ..., 0.49469256, 0.5691235 ,\n",
       "       0.54492813], dtype=float32)"
      ]
     },
     "execution_count": 779,
     "metadata": {},
     "output_type": "execute_result"
    }
   ],
   "source": [
    "y_pred_new"
   ]
  },
  {
   "cell_type": "code",
   "execution_count": 780,
   "metadata": {},
   "outputs": [],
   "source": [
    "df_test1 = pd.read_csv(r'C:\\Users\\ACER\\Desktop\\UMN\\Predictive Analysis\\FinalProject\\data\\test.csv',converters={'fullVisitorId': lambda x: str(x)})"
   ]
  },
  {
   "cell_type": "code",
   "execution_count": 781,
   "metadata": {},
   "outputs": [
    {
     "data": {
      "text/html": [
       "<div>\n",
       "<style scoped>\n",
       "    .dataframe tbody tr th:only-of-type {\n",
       "        vertical-align: middle;\n",
       "    }\n",
       "\n",
       "    .dataframe tbody tr th {\n",
       "        vertical-align: top;\n",
       "    }\n",
       "\n",
       "    .dataframe thead th {\n",
       "        text-align: right;\n",
       "    }\n",
       "</style>\n",
       "<table border=\"1\" class=\"dataframe\">\n",
       "  <thead>\n",
       "    <tr style=\"text-align: right;\">\n",
       "      <th></th>\n",
       "      <th>fullVisitorId</th>\n",
       "      <th>PredictedLogRevenue</th>\n",
       "    </tr>\n",
       "  </thead>\n",
       "  <tbody>\n",
       "    <tr>\n",
       "      <td>0</td>\n",
       "      <td>0000018966949534117</td>\n",
       "      <td>0.680395</td>\n",
       "    </tr>\n",
       "    <tr>\n",
       "      <td>1</td>\n",
       "      <td>0000039738481224681</td>\n",
       "      <td>0.494693</td>\n",
       "    </tr>\n",
       "    <tr>\n",
       "      <td>2</td>\n",
       "      <td>0000073585230191399</td>\n",
       "      <td>0.383422</td>\n",
       "    </tr>\n",
       "    <tr>\n",
       "      <td>3</td>\n",
       "      <td>0000087588448856385</td>\n",
       "      <td>0.544928</td>\n",
       "    </tr>\n",
       "    <tr>\n",
       "      <td>4</td>\n",
       "      <td>0000149787903119437</td>\n",
       "      <td>0.494693</td>\n",
       "    </tr>\n",
       "    <tr>\n",
       "      <td>...</td>\n",
       "      <td>...</td>\n",
       "      <td>...</td>\n",
       "    </tr>\n",
       "    <tr>\n",
       "      <td>296525</td>\n",
       "      <td>9999862054614696520</td>\n",
       "      <td>0.680395</td>\n",
       "    </tr>\n",
       "    <tr>\n",
       "      <td>296526</td>\n",
       "      <td>9999898168621645223</td>\n",
       "      <td>0.407617</td>\n",
       "    </tr>\n",
       "    <tr>\n",
       "      <td>296527</td>\n",
       "      <td>999990167740728398</td>\n",
       "      <td>0.494693</td>\n",
       "    </tr>\n",
       "    <tr>\n",
       "      <td>296528</td>\n",
       "      <td>9999915620249883537</td>\n",
       "      <td>0.569124</td>\n",
       "    </tr>\n",
       "    <tr>\n",
       "      <td>296529</td>\n",
       "      <td>9999947552481876143</td>\n",
       "      <td>0.544928</td>\n",
       "    </tr>\n",
       "  </tbody>\n",
       "</table>\n",
       "<p>296530 rows × 2 columns</p>\n",
       "</div>"
      ],
      "text/plain": [
       "              fullVisitorId  PredictedLogRevenue\n",
       "0       0000018966949534117             0.680395\n",
       "1       0000039738481224681             0.494693\n",
       "2       0000073585230191399             0.383422\n",
       "3       0000087588448856385             0.544928\n",
       "4       0000149787903119437             0.494693\n",
       "...                     ...                  ...\n",
       "296525  9999862054614696520             0.680395\n",
       "296526  9999898168621645223             0.407617\n",
       "296527   999990167740728398             0.494693\n",
       "296528  9999915620249883537             0.569124\n",
       "296529  9999947552481876143             0.544928\n",
       "\n",
       "[296530 rows x 2 columns]"
      ]
     },
     "execution_count": 781,
     "metadata": {},
     "output_type": "execute_result"
    }
   ],
   "source": [
    "#test\n",
    "data_xgboost_new = {'fullVisitorId': [i for i in df_test1.fullVisitorId], 'PredictedLogRevenue': [j for j in y_pred_new]}\n",
    "submission_xgboost_new = pd.DataFrame(data_xgboost_new)\n",
    "submission_xgboost_new"
   ]
  },
  {
   "cell_type": "code",
   "execution_count": null,
   "metadata": {},
   "outputs": [],
   "source": [
    "submission_xgboost_new.to_csv(r'C:\\Users\\ACER\\Desktop\\UMN\\Predictive Analysis\\FinalProject\\data\\submission_xgboost2.csv', index = False)"
   ]
  }
 ],
 "metadata": {
  "kernelspec": {
   "display_name": "Python 3",
   "language": "python",
   "name": "python3"
  },
  "language_info": {
   "codemirror_mode": {
    "name": "ipython",
    "version": 3
   },
   "file_extension": ".py",
   "mimetype": "text/x-python",
   "name": "python",
   "nbconvert_exporter": "python",
   "pygments_lexer": "ipython3",
   "version": "3.7.3"
  }
 },
 "nbformat": 4,
 "nbformat_minor": 2
}
